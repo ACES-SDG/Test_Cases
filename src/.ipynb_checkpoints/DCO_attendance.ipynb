{
 "cells": [
  {
   "cell_type": "code",
   "execution_count": 1,
   "metadata": {},
   "outputs": [],
   "source": [
    "import numpy as np"
   ]
  },
  {
   "cell_type": "code",
   "execution_count": 2,
   "metadata": {},
   "outputs": [],
   "source": [
    "import pandas as pd"
   ]
  },
  {
   "cell_type": "code",
   "execution_count": 14,
   "metadata": {},
   "outputs": [],
   "source": [
    "df =  pd.read_excel(\"D:/wfms_support/DCO_mapping.xlsx\")\n"
   ]
  },
  {
   "cell_type": "code",
   "execution_count": 15,
   "metadata": {},
   "outputs": [
    {
     "data": {
      "text/plain": [
       "Index(['SN#', 'Code ID#', 'Department', 'Section', 'Field Name (Arabic)',\n",
       "       'Support Status', 'Field Name (English)', 'Field Mobile # whatsapp',\n",
       "       'User ID', 'Password', 'Field Mobile # voice', 'Phone# Operator',\n",
       "       'Region', 'ZONE', 'MC', 'Email', 'Field Nationality', 'Company',\n",
       "       'Identity#', 'ACES ID', 'Joining Date', 'Job Title',\n",
       "       'Profession as per iqama', 'Field Image Url', '1st line manger',\n",
       "       '2nd line manger', '3rd line manger', '4th line manger',\n",
       "       '5th line manger', 'Check in', 'Check Out',\n",
       "       'Site Location (Coordinate)', '15-Apr', '16-Apr', '17-Apr', '18-Apr',\n",
       "       '19-Apr', '20-Apr', '21-Apr', '22-Apr', '23-Apr', '24-Apr', '25-Apr',\n",
       "       '26-Apr', '27-Apr'],\n",
       "      dtype='object')"
      ]
     },
     "execution_count": 15,
     "metadata": {},
     "output_type": "execute_result"
    }
   ],
   "source": [
    "df.columns"
   ]
  },
  {
   "cell_type": "code",
   "execution_count": 77,
   "metadata": {},
   "outputs": [
    {
     "data": {
      "text/plain": [
       "130"
      ]
     },
     "execution_count": 77,
     "metadata": {},
     "output_type": "execute_result"
    }
   ],
   "source": [
    "df.shape[0]+1\n",
    "\n",
    "    # print(i)"
   ]
  },
  {
   "cell_type": "code",
   "execution_count": 90,
   "metadata": {},
   "outputs": [],
   "source": [
    "for row in range(0, df.shape[0]):\n",
    "    count_p = 0\n",
    "    count_Ab = 0\n",
    "    for col in range(28, 11):\n",
    "        if df[f'{col}-Apr'].loc[row] == 'Ab':\n",
    "            count_Ab+=1\n",
    "        else:\n",
    "            count_p +=1\n",
    "    df['Total_present'].loc[row] = count_p \n",
    "    df['Total_absent'].loc[row] = count_Ab \n"
   ]
  },
  {
   "cell_type": "code",
   "execution_count": 56,
   "metadata": {},
   "outputs": [
    {
     "name": "stderr",
     "output_type": "stream",
     "text": [
      "C:\\Users\\Mazhar\\AppData\\Local\\Temp\\ipykernel_2200\\2499900353.py:1: SettingWithCopyWarning: \n",
      "A value is trying to be set on a copy of a slice from a DataFrame\n",
      "\n",
      "See the caveats in the documentation: https://pandas.pydata.org/pandas-docs/stable/user_guide/indexing.html#returning-a-view-versus-a-copy\n",
      "  df['Total_present'].loc[1] = count_p + 5\n",
      "C:\\Users\\Mazhar\\AppData\\Local\\Temp\\ipykernel_2200\\2499900353.py:2: SettingWithCopyWarning: \n",
      "A value is trying to be set on a copy of a slice from a DataFrame\n",
      "\n",
      "See the caveats in the documentation: https://pandas.pydata.org/pandas-docs/stable/user_guide/indexing.html#returning-a-view-versus-a-copy\n",
      "  df['Total_Absent'].loc[1] = count_Ab +5\n"
     ]
    }
   ],
   "source": [
    "df['Total_present'].loc[1] = count_p + 5\n",
    "df['Total_Absent'].loc[1] = count_Ab +5"
   ]
  },
  {
   "cell_type": "code",
   "execution_count": 89,
   "metadata": {},
   "outputs": [
    {
     "data": {
      "text/html": [
       "<div>\n",
       "<style scoped>\n",
       "    .dataframe tbody tr th:only-of-type {\n",
       "        vertical-align: middle;\n",
       "    }\n",
       "\n",
       "    .dataframe tbody tr th {\n",
       "        vertical-align: top;\n",
       "    }\n",
       "\n",
       "    .dataframe thead th {\n",
       "        text-align: right;\n",
       "    }\n",
       "</style>\n",
       "<table border=\"1\" class=\"dataframe\">\n",
       "  <thead>\n",
       "    <tr style=\"text-align: right;\">\n",
       "      <th></th>\n",
       "      <th>Total_present</th>\n",
       "      <th>Total_absent</th>\n",
       "    </tr>\n",
       "  </thead>\n",
       "  <tbody>\n",
       "    <tr>\n",
       "      <th>0</th>\n",
       "      <td>0</td>\n",
       "      <td>13</td>\n",
       "    </tr>\n",
       "    <tr>\n",
       "      <th>1</th>\n",
       "      <td>0</td>\n",
       "      <td>13</td>\n",
       "    </tr>\n",
       "    <tr>\n",
       "      <th>2</th>\n",
       "      <td>0</td>\n",
       "      <td>13</td>\n",
       "    </tr>\n",
       "    <tr>\n",
       "      <th>3</th>\n",
       "      <td>0</td>\n",
       "      <td>13</td>\n",
       "    </tr>\n",
       "    <tr>\n",
       "      <th>4</th>\n",
       "      <td>0</td>\n",
       "      <td>13</td>\n",
       "    </tr>\n",
       "    <tr>\n",
       "      <th>5</th>\n",
       "      <td>0</td>\n",
       "      <td>13</td>\n",
       "    </tr>\n",
       "    <tr>\n",
       "      <th>6</th>\n",
       "      <td>0</td>\n",
       "      <td>13</td>\n",
       "    </tr>\n",
       "    <tr>\n",
       "      <th>7</th>\n",
       "      <td>12</td>\n",
       "      <td>1</td>\n",
       "    </tr>\n",
       "    <tr>\n",
       "      <th>8</th>\n",
       "      <td>12</td>\n",
       "      <td>1</td>\n",
       "    </tr>\n",
       "    <tr>\n",
       "      <th>9</th>\n",
       "      <td>12</td>\n",
       "      <td>1</td>\n",
       "    </tr>\n",
       "    <tr>\n",
       "      <th>10</th>\n",
       "      <td>13</td>\n",
       "      <td>0</td>\n",
       "    </tr>\n",
       "    <tr>\n",
       "      <th>11</th>\n",
       "      <td>0</td>\n",
       "      <td>13</td>\n",
       "    </tr>\n",
       "    <tr>\n",
       "      <th>12</th>\n",
       "      <td>0</td>\n",
       "      <td>13</td>\n",
       "    </tr>\n",
       "    <tr>\n",
       "      <th>13</th>\n",
       "      <td>0</td>\n",
       "      <td>13</td>\n",
       "    </tr>\n",
       "    <tr>\n",
       "      <th>14</th>\n",
       "      <td>9</td>\n",
       "      <td>4</td>\n",
       "    </tr>\n",
       "    <tr>\n",
       "      <th>15</th>\n",
       "      <td>0</td>\n",
       "      <td>13</td>\n",
       "    </tr>\n",
       "    <tr>\n",
       "      <th>16</th>\n",
       "      <td>0</td>\n",
       "      <td>13</td>\n",
       "    </tr>\n",
       "    <tr>\n",
       "      <th>17</th>\n",
       "      <td>4</td>\n",
       "      <td>9</td>\n",
       "    </tr>\n",
       "    <tr>\n",
       "      <th>18</th>\n",
       "      <td>0</td>\n",
       "      <td>13</td>\n",
       "    </tr>\n",
       "    <tr>\n",
       "      <th>19</th>\n",
       "      <td>0</td>\n",
       "      <td>13</td>\n",
       "    </tr>\n",
       "  </tbody>\n",
       "</table>\n",
       "</div>"
      ],
      "text/plain": [
       "   Total_present Total_absent\n",
       "0              0           13\n",
       "1              0           13\n",
       "2              0           13\n",
       "3              0           13\n",
       "4              0           13\n",
       "5              0           13\n",
       "6              0           13\n",
       "7             12            1\n",
       "8             12            1\n",
       "9             12            1\n",
       "10            13            0\n",
       "11             0           13\n",
       "12             0           13\n",
       "13             0           13\n",
       "14             9            4\n",
       "15             0           13\n",
       "16             0           13\n",
       "17             4            9\n",
       "18             0           13\n",
       "19             0           13"
      ]
     },
     "execution_count": 89,
     "metadata": {},
     "output_type": "execute_result"
    }
   ],
   "source": [
    "df[['Total_present','Total_absent']].head(20)"
   ]
  },
  {
   "cell_type": "code",
   "execution_count": 82,
   "metadata": {},
   "outputs": [],
   "source": [
    "df['Total_present'] = 'Nan'\n",
    "df['Total_absent'] = 'Nan'"
   ]
  },
  {
   "cell_type": "code",
   "execution_count": 81,
   "metadata": {},
   "outputs": [
    {
     "data": {
      "text/plain": [
       "Index(['SN#', 'Code ID#', 'Department', 'Section', 'Field Name (Arabic)',\n",
       "       'Support Status', 'Field Name (English)', 'Field Mobile # whatsapp',\n",
       "       'User ID', 'Password', 'Field Mobile # voice', 'Phone# Operator',\n",
       "       'Region', 'ZONE', 'MC', 'Email', 'Field Nationality', 'Company',\n",
       "       'Identity#', 'ACES ID', 'Joining Date', 'Job Title',\n",
       "       'Profession as per iqama', 'Field Image Url', '1st line manger',\n",
       "       '2nd line manger', '3rd line manger', '4th line manger',\n",
       "       '5th line manger', 'Check in', 'Check Out',\n",
       "       'Site Location (Coordinate)', '15-Apr', '16-Apr', '17-Apr', '18-Apr',\n",
       "       '19-Apr', '20-Apr', '21-Apr', '22-Apr', '23-Apr', '24-Apr', '25-Apr',\n",
       "       '26-Apr', '27-Apr'],\n",
       "      dtype='object')"
      ]
     },
     "execution_count": 81,
     "metadata": {},
     "output_type": "execute_result"
    }
   ],
   "source": [
    "df.columns"
   ]
  },
  {
   "cell_type": "code",
   "execution_count": 80,
   "metadata": {},
   "outputs": [],
   "source": [
    "del(df['Total_Absent'],df['Total_present'])"
   ]
  },
  {
   "cell_type": "code",
   "execution_count": null,
   "metadata": {},
   "outputs": [],
   "source": []
  },
  {
   "cell_type": "code",
   "execution_count": null,
   "metadata": {},
   "outputs": [],
   "source": []
  },
  {
   "cell_type": "code",
   "execution_count": null,
   "metadata": {},
   "outputs": [],
   "source": []
  },
  {
   "cell_type": "code",
   "execution_count": null,
   "metadata": {},
   "outputs": [],
   "source": []
  },
  {
   "cell_type": "code",
   "execution_count": 32,
   "metadata": {},
   "outputs": [
    {
     "data": {
      "text/plain": [
       "p    16\n",
       "Name: 15-Apr, dtype: int64"
      ]
     },
     "execution_count": 32,
     "metadata": {},
     "output_type": "execute_result"
    }
   ],
   "source": [
    "df['15-Apr'].value_counts()"
   ]
  },
  {
   "cell_type": "code",
   "execution_count": 215,
   "metadata": {},
   "outputs": [],
   "source": [
    "att_df =  pd.read_excel(\"D:/wfms_support/27-4AttendanceReport (1).xlsx\",sheet_name='NR')\n"
   ]
  },
  {
   "cell_type": "code",
   "execution_count": 216,
   "metadata": {},
   "outputs": [
    {
     "data": {
      "text/plain": [
       "Index(['Unnamed: 0', 'Name :', 'Unnamed: 2', 'Mohammad Arif Abdulraqeeb',\n",
       "       'Unnamed: 4', 'Ahmed Rageb', 'Unnamed: 6', 'Safi Ur Rahman',\n",
       "       'Unnamed: 8', 'Majed Abdulraqeeb Abdelhafiz ', 'Unnamed: 10',\n",
       "       'Mohamed Ahmed Ishaq Aafyah', 'Unnamed: 12',\n",
       "       'Hisham Abdeen Elsayed Abo zied', 'Unnamed: 14', 'Mazhar Uddin',\n",
       "       'Unnamed: 16', 'Farid Mohammed Shoula'],\n",
       "      dtype='object')"
      ]
     },
     "execution_count": 216,
     "metadata": {},
     "output_type": "execute_result"
    }
   ],
   "source": [
    "att_df.columns"
   ]
  },
  {
   "cell_type": "code",
   "execution_count": 217,
   "metadata": {},
   "outputs": [
    {
     "name": "stdout",
     "output_type": "stream",
     "text": [
      "Unnamed: 0\n",
      "Name :\n",
      "Unnamed: 2\n",
      "Mohammad Arif Abdulraqeeb\n",
      "Unnamed: 4\n",
      "Ahmed Rageb\n",
      "Unnamed: 6\n",
      "Safi Ur Rahman\n",
      "Unnamed: 8\n",
      "Majed Abdulraqeeb Abdelhafiz \n",
      "Unnamed: 10\n",
      "Mohamed Ahmed Ishaq Aafyah\n",
      "Unnamed: 12\n",
      "Hisham Abdeen Elsayed Abo zied\n",
      "Unnamed: 14\n",
      "Mazhar Uddin\n",
      "Unnamed: 16\n",
      "Farid Mohammed Shoula\n"
     ]
    }
   ],
   "source": [
    "for i in att_df.columns:\n",
    "    print(i)\n",
    "    # df[\"15-Apr__\"]= np.where(df[\"Field Name (English)\"]==i,\"P\",\"Ab\")\n",
    "    df.loc[df['Field Name (English)'] == i, '27-Apr'] = 'P'"
   ]
  },
  {
   "cell_type": "code",
   "execution_count": 218,
   "metadata": {},
   "outputs": [
    {
     "data": {
      "text/plain": [
       "Ab    85\n",
       "P     44\n",
       "Name: 27-Apr, dtype: int64"
      ]
     },
     "execution_count": 218,
     "metadata": {},
     "output_type": "execute_result"
    }
   ],
   "source": [
    "df['27-Apr'].value_counts()"
   ]
  },
  {
   "cell_type": "code",
   "execution_count": 200,
   "metadata": {},
   "outputs": [
    {
     "data": {
      "text/plain": [
       "0     NaN\n",
       "1     NaN\n",
       "2     NaN\n",
       "3     NaN\n",
       "4     NaN\n",
       "5     NaN\n",
       "6     NaN\n",
       "7       P\n",
       "8       P\n",
       "9       P\n",
       "10      P\n",
       "11    NaN\n",
       "12    NaN\n",
       "13    NaN\n",
       "14    NaN\n",
       "15    NaN\n",
       "16    NaN\n",
       "17    NaN\n",
       "18    NaN\n",
       "19    NaN\n",
       "Name: 27-Apr, dtype: object"
      ]
     },
     "execution_count": 200,
     "metadata": {},
     "output_type": "execute_result"
    }
   ],
   "source": [
    "df['27-Apr'].head(20)"
   ]
  },
  {
   "cell_type": "code",
   "execution_count": 201,
   "metadata": {},
   "outputs": [],
   "source": [
    "df['27-Apr'] = df['27-Apr'].fillna('Ab')"
   ]
  },
  {
   "cell_type": "code",
   "execution_count": 202,
   "metadata": {},
   "outputs": [
    {
     "data": {
      "text/plain": [
       "Ab    117\n",
       "P      12\n",
       "Name: 27-Apr, dtype: int64"
      ]
     },
     "execution_count": 202,
     "metadata": {},
     "output_type": "execute_result"
    }
   ],
   "source": [
    "df['27-Apr'].value_counts()"
   ]
  },
  {
   "cell_type": "code",
   "execution_count": 221,
   "metadata": {},
   "outputs": [
    {
     "data": {
      "text/html": [
       "<div>\n",
       "<style scoped>\n",
       "    .dataframe tbody tr th:only-of-type {\n",
       "        vertical-align: middle;\n",
       "    }\n",
       "\n",
       "    .dataframe tbody tr th {\n",
       "        vertical-align: top;\n",
       "    }\n",
       "\n",
       "    .dataframe thead th {\n",
       "        text-align: right;\n",
       "    }\n",
       "</style>\n",
       "<table border=\"1\" class=\"dataframe\">\n",
       "  <thead>\n",
       "    <tr style=\"text-align: right;\">\n",
       "      <th></th>\n",
       "      <th>SN#</th>\n",
       "      <th>Code ID#</th>\n",
       "      <th>Department</th>\n",
       "      <th>Section</th>\n",
       "      <th>Field Name (Arabic)</th>\n",
       "      <th>Support Status</th>\n",
       "      <th>Field Name (English)</th>\n",
       "      <th>Field Mobile # whatsapp</th>\n",
       "      <th>User ID</th>\n",
       "      <th>Password</th>\n",
       "      <th>...</th>\n",
       "      <th>Decision-making</th>\n",
       "      <th>Initiative and innovation</th>\n",
       "      <th>20-Apr</th>\n",
       "      <th>21-Apr</th>\n",
       "      <th>22-Apr</th>\n",
       "      <th>23-Apr</th>\n",
       "      <th>24-Apr</th>\n",
       "      <th>25-Apr</th>\n",
       "      <th>26-Apr</th>\n",
       "      <th>27-Apr</th>\n",
       "    </tr>\n",
       "  </thead>\n",
       "  <tbody>\n",
       "    <tr>\n",
       "      <th>0</th>\n",
       "      <td>1</td>\n",
       "      <td>DIRECTOR_001</td>\n",
       "      <td>Mobily MNS</td>\n",
       "      <td>DCO</td>\n",
       "      <td>حسام الدين الزعاتره</td>\n",
       "      <td>No response to watsapp</td>\n",
       "      <td>Hussam Al Zaaterah</td>\n",
       "      <td>504743725</td>\n",
       "      <td>hussam</td>\n",
       "      <td>hussam#725</td>\n",
       "      <td>...</td>\n",
       "      <td>NaN</td>\n",
       "      <td>NaN</td>\n",
       "      <td>Ab</td>\n",
       "      <td>Ab</td>\n",
       "      <td>Ab</td>\n",
       "      <td>Ab</td>\n",
       "      <td>Ab</td>\n",
       "      <td>Ab</td>\n",
       "      <td>Ab</td>\n",
       "      <td>Ab</td>\n",
       "    </tr>\n",
       "    <tr>\n",
       "      <th>1</th>\n",
       "      <td>2</td>\n",
       "      <td>DCO_PM_002</td>\n",
       "      <td>Mobily MNS</td>\n",
       "      <td>DCO</td>\n",
       "      <td>سعد حسين ناصر الدلقموني</td>\n",
       "      <td>No response to watsapp</td>\n",
       "      <td>Saad Dalgamoni</td>\n",
       "      <td>547797789</td>\n",
       "      <td>sdalgamoni</td>\n",
       "      <td>sdalgamoni#789</td>\n",
       "      <td>...</td>\n",
       "      <td>NaN</td>\n",
       "      <td>NaN</td>\n",
       "      <td>Ab</td>\n",
       "      <td>Ab</td>\n",
       "      <td>Ab</td>\n",
       "      <td>Ab</td>\n",
       "      <td>Ab</td>\n",
       "      <td>Ab</td>\n",
       "      <td>Ab</td>\n",
       "      <td>Ab</td>\n",
       "    </tr>\n",
       "    <tr>\n",
       "      <th>2</th>\n",
       "      <td>3</td>\n",
       "      <td>DCO_RM_003</td>\n",
       "      <td>Mobily MNS</td>\n",
       "      <td>DCO</td>\n",
       "      <td>محمد حسن خاطر</td>\n",
       "      <td>On vacation</td>\n",
       "      <td>Mohammed Khatir</td>\n",
       "      <td>542988095</td>\n",
       "      <td>m.khatir</td>\n",
       "      <td>mkhatir#095</td>\n",
       "      <td>...</td>\n",
       "      <td>NaN</td>\n",
       "      <td>NaN</td>\n",
       "      <td>Ab</td>\n",
       "      <td>Ab</td>\n",
       "      <td>Ab</td>\n",
       "      <td>Ab</td>\n",
       "      <td>Ab</td>\n",
       "      <td>Ab</td>\n",
       "      <td>Ab</td>\n",
       "      <td>Ab</td>\n",
       "    </tr>\n",
       "    <tr>\n",
       "      <th>3</th>\n",
       "      <td>4</td>\n",
       "      <td>DCO_SOM_004</td>\n",
       "      <td>Mobily MNS</td>\n",
       "      <td>DCO</td>\n",
       "      <td>محمد عاطف رحيم عبدالرحيم كاشف</td>\n",
       "      <td>No response to watsapp</td>\n",
       "      <td>MUHAMMAD ATIF RAHEEM ABUL RAHIM HASHIF</td>\n",
       "      <td>533131897</td>\n",
       "      <td>mmraheem</td>\n",
       "      <td>mmraheem#911</td>\n",
       "      <td>...</td>\n",
       "      <td>NaN</td>\n",
       "      <td>NaN</td>\n",
       "      <td>Ab</td>\n",
       "      <td>Ab</td>\n",
       "      <td>Ab</td>\n",
       "      <td>Ab</td>\n",
       "      <td>Ab</td>\n",
       "      <td>Ab</td>\n",
       "      <td>Ab</td>\n",
       "      <td>Ab</td>\n",
       "    </tr>\n",
       "    <tr>\n",
       "      <th>4</th>\n",
       "      <td>5</td>\n",
       "      <td>DCO_SE_005</td>\n",
       "      <td>Mobily MNS</td>\n",
       "      <td>DCO</td>\n",
       "      <td>جلال محمد نور يوسف بدر</td>\n",
       "      <td>Login Successful and Punch In pending</td>\n",
       "      <td>Galal mohammednour</td>\n",
       "      <td>594960605</td>\n",
       "      <td>jalal.badr</td>\n",
       "      <td>jalal#badr605</td>\n",
       "      <td>...</td>\n",
       "      <td>NaN</td>\n",
       "      <td>NaN</td>\n",
       "      <td>Ab</td>\n",
       "      <td>Ab</td>\n",
       "      <td>Ab</td>\n",
       "      <td>Ab</td>\n",
       "      <td>Ab</td>\n",
       "      <td>Ab</td>\n",
       "      <td>Ab</td>\n",
       "      <td>Ab</td>\n",
       "    </tr>\n",
       "  </tbody>\n",
       "</table>\n",
       "<p>5 rows × 319 columns</p>\n",
       "</div>"
      ],
      "text/plain": [
       "  SN#      Code ID#  Department Section            Field Name (Arabic)  \\\n",
       "0   1  DIRECTOR_001  Mobily MNS     DCO            حسام الدين الزعاتره   \n",
       "1   2    DCO_PM_002  Mobily MNS     DCO        سعد حسين ناصر الدلقموني   \n",
       "2   3    DCO_RM_003  Mobily MNS     DCO                  محمد حسن خاطر   \n",
       "3   4   DCO_SOM_004  Mobily MNS     DCO  محمد عاطف رحيم عبدالرحيم كاشف   \n",
       "4   5    DCO_SE_005  Mobily MNS     DCO         جلال محمد نور يوسف بدر   \n",
       "\n",
       "                          Support Status  \\\n",
       "0                 No response to watsapp   \n",
       "1                 No response to watsapp   \n",
       "2                           On vacation    \n",
       "3                 No response to watsapp   \n",
       "4  Login Successful and Punch In pending   \n",
       "\n",
       "                     Field Name (English) Field Mobile # whatsapp     User ID  \\\n",
       "0                      Hussam Al Zaaterah               504743725      hussam   \n",
       "1                          Saad Dalgamoni               547797789  sdalgamoni   \n",
       "2                         Mohammed Khatir               542988095    m.khatir   \n",
       "3  MUHAMMAD ATIF RAHEEM ABUL RAHIM HASHIF               533131897    mmraheem   \n",
       "4                      Galal mohammednour               594960605  jalal.badr   \n",
       "\n",
       "         Password  ... Decision-making Initiative and innovation 20-Apr  \\\n",
       "0      hussam#725  ...             NaN                       NaN     Ab   \n",
       "1  sdalgamoni#789  ...             NaN                       NaN     Ab   \n",
       "2     mkhatir#095  ...             NaN                       NaN     Ab   \n",
       "3    mmraheem#911  ...             NaN                       NaN     Ab   \n",
       "4   jalal#badr605  ...             NaN                       NaN     Ab   \n",
       "\n",
       "  21-Apr 22-Apr 23-Apr 24-Apr 25-Apr 26-Apr  27-Apr  \n",
       "0     Ab     Ab     Ab     Ab     Ab     Ab      Ab  \n",
       "1     Ab     Ab     Ab     Ab     Ab     Ab      Ab  \n",
       "2     Ab     Ab     Ab     Ab     Ab     Ab      Ab  \n",
       "3     Ab     Ab     Ab     Ab     Ab     Ab      Ab  \n",
       "4     Ab     Ab     Ab     Ab     Ab     Ab      Ab  \n",
       "\n",
       "[5 rows x 319 columns]"
      ]
     },
     "execution_count": 221,
     "metadata": {},
     "output_type": "execute_result"
    }
   ],
   "source": [
    "df.head()"
   ]
  },
  {
   "cell_type": "code",
   "execution_count": 220,
   "metadata": {},
   "outputs": [],
   "source": [
    "del(df['Fee'])"
   ]
  },
  {
   "cell_type": "code",
   "execution_count": 224,
   "metadata": {},
   "outputs": [],
   "source": [
    "df.to_excel( \"output.xlsx\",sheet_name='Sheet1')"
   ]
  },
  {
   "cell_type": "code",
   "execution_count": null,
   "metadata": {},
   "outputs": [],
   "source": []
  }
 ],
 "metadata": {
  "kernelspec": {
   "display_name": "Python 3",
   "language": "python",
   "name": "python3"
  },
  "language_info": {
   "codemirror_mode": {
    "name": "ipython",
    "version": 3
   },
   "file_extension": ".py",
   "mimetype": "text/x-python",
   "name": "python",
   "nbconvert_exporter": "python",
   "pygments_lexer": "ipython3",
   "version": "3.11.0"
  },
  "orig_nbformat": 4
 },
 "nbformat": 4,
 "nbformat_minor": 2
}
