{
 "cells": [
  {
   "cell_type": "code",
   "execution_count": 1,
   "metadata": {},
   "outputs": [],
   "source": [
    "import pandas as pd"
   ]
  },
  {
   "cell_type": "code",
   "execution_count": 2,
   "metadata": {},
   "outputs": [],
   "source": [
    "df =  pd.read_excel(\"D:/wfms_support/DCO_mapping.xlsx\")"
   ]
  },
  {
   "cell_type": "code",
   "execution_count": 3,
   "metadata": {},
   "outputs": [
    {
     "data": {
      "text/plain": [
       "Index([                       'SN#',                   'Code ID#',\n",
       "                       'Department',                    'Section',\n",
       "              'Field Name (Arabic)',             'Support Status',\n",
       "             'Field Name (English)',    'Field Mobile # whatsapp',\n",
       "                          'User ID',                   'Password',\n",
       "       ...\n",
       "        'Preparation and follow-up',                  'Teamwork ',\n",
       "                 'Solving problems',       'Relations with staff',\n",
       "       'Relations with management'',              'Work behavior',\n",
       "               'Career advancement',            'Leadership team',\n",
       "                  'Decision-making',  'Initiative and innovation'],\n",
       "      dtype='object', length=311)"
      ]
     },
     "execution_count": 3,
     "metadata": {},
     "output_type": "execute_result"
    }
   ],
   "source": [
    "df.columns"
   ]
  },
  {
   "cell_type": "code",
   "execution_count": 4,
   "metadata": {},
   "outputs": [
    {
     "data": {
      "text/plain": [
       "array(['No response to watsapp', 'On vacation ',\n",
       "       'Login Successful and Punch In pending', 'Punchin Success',\n",
       "       'Invalid Watsapp number ', 'IOS Issue', 'Huawei mobile issue',\n",
       "       'Biometric issue', 'Isssue in phone - arabic speaking'],\n",
       "      dtype=object)"
      ]
     },
     "execution_count": 4,
     "metadata": {},
     "output_type": "execute_result"
    }
   ],
   "source": [
    "df['Support Status'].unique()"
   ]
  },
  {
   "cell_type": "code",
   "execution_count": null,
   "metadata": {},
   "outputs": [],
   "source": [
    "df['Support Status'].value_counts()"
   ]
  },
  {
   "cell_type": "code",
   "execution_count": null,
   "metadata": {},
   "outputs": [],
   "source": [
    "df['Support Status'].value_counts()"
   ]
  },
  {
   "cell_type": "code",
   "execution_count": null,
   "metadata": {},
   "outputs": [],
   "source": [
    "# df['Support Status'] = df[\"Support Status\"] = "
   ]
  },
  {
   "cell_type": "code",
   "execution_count": null,
   "metadata": {},
   "outputs": [],
   "source": [
    "df['Support Status'].value_counts().plot(kind='bar')"
   ]
  },
  {
   "cell_type": "code",
   "execution_count": null,
   "metadata": {},
   "outputs": [],
   "source": [
    "df['Support Status'].value_counts().plot(kind='pie')\n"
   ]
  },
  {
   "cell_type": "code",
   "execution_count": null,
   "metadata": {},
   "outputs": [],
   "source": [
    "Punchin Success                      60\n",
    "No response to watsapp               31\n",
    "Logged in but unable to punchin      19\n",
    "Invalid Watsapp number                7\n",
    "On vacation                           4\n",
    "IOS test fligt issue                  3\n",
    "Biometric issue                       2\n",
    "Punch in success                      1\n",
    "Huawei mobile issue                   1\n",
    "Isssue in phone - arabic speaking     1\n"
   ]
  }
 ],
 "metadata": {
  "kernelspec": {
   "display_name": "Python 3",
   "language": "python",
   "name": "python3"
  },
  "language_info": {
   "codemirror_mode": {
    "name": "ipython",
    "version": 3
   },
   "file_extension": ".py",
   "mimetype": "text/x-python",
   "name": "python",
   "nbconvert_exporter": "python",
   "pygments_lexer": "ipython3",
   "version": "3.11.0"
  },
  "orig_nbformat": 4
 },
 "nbformat": 4,
 "nbformat_minor": 2
}
