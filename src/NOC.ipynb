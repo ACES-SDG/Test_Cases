{
 "cells": [
  {
   "cell_type": "code",
   "execution_count": 1,
   "metadata": {},
   "outputs": [],
   "source": [
    "import pandas as pd"
   ]
  },
  {
   "cell_type": "markdown",
   "metadata": {},
   "source": [
    "### import data"
   ]
  },
  {
   "cell_type": "code",
   "execution_count": 2,
   "metadata": {},
   "outputs": [],
   "source": [
    "df = pd.read_excel(\"C:/Users/Mazhar/OneDrive/Desktop/LIve_Working/practice/my_practice/src/NOC_final_v2.xlsx\") "
   ]
  },
  {
   "cell_type": "code",
   "execution_count": 43,
   "metadata": {},
   "outputs": [
    {
     "name": "stdout",
     "output_type": "stream",
     "text": [
      "<class 'pandas.core.frame.DataFrame'>\n",
      "RangeIndex: 16261 entries, 0 to 16260\n",
      "Data columns (total 46 columns):\n",
      " #   Column                                             Non-Null Count  Dtype  \n",
      "---  ------                                             --------------  -----  \n",
      " 0   #                                                  16260 non-null  float64\n",
      " 1   Hub Site ID                                        16260 non-null  object \n",
      " 2   Region                                             16260 non-null  object \n",
      " 3   Area                                               16242 non-null  object \n",
      " 4   Connectivity                                       16177 non-null  object \n",
      " 5   Site Type                                          16220 non-null  object \n",
      " 6   Power configuration                                16254 non-null  object \n",
      " 7   Battery status                                     16215 non-null  object \n",
      " 8   Exact Number of Physical Impacted Sites            16260 non-null  float64\n",
      " 9   All Impacted Couts                                 16260 non-null  object \n",
      " 10  2G Sites IDs                                       14774 non-null  object \n",
      " 11  3G Sites IDs                                       15270 non-null  object \n",
      " 12  4G Sites IDs                                       15767 non-null  object \n",
      " 13  Power Alarms Date                                  16260 non-null  object \n",
      " 14  Power Alarms Time                                  16260 non-null  object \n",
      " 15  Outage Start Date                                  16260 non-null  object \n",
      " 16  Outage Start Time                                  16260 non-null  object \n",
      " 17  Outage End Date                                    16160 non-null  object \n",
      " 18  Outage End Time                                    16160 non-null  object \n",
      " 19  Outage Duration                                    403 non-null    float64\n",
      " 20  Hub Site Sharing Date                              16260 non-null  object \n",
      " 21  Hub Site Sharing Time                              16260 non-null  object \n",
      " 22  Time between Alarm and Outage                      16260 non-null  object \n",
      " 23  Actual E&M Duration\n",
      "Outage End - Hub Sharing Time  15375 non-null  float64\n",
      " 24  Fault Type                                         16260 non-null  object \n",
      " 25  Problem Description                                16260 non-null  object \n",
      " 26  Action Taken                                       16228 non-null  object \n",
      " 27  Remarks                                            4941 non-null   object \n",
      " 28  TT Number                                          16260 non-null  object \n",
      " 29  Severity                                           16260 non-null  object \n",
      " 30  Subcon                                             402 non-null    object \n",
      " 31  System                                             16256 non-null  object \n",
      " 32  TT Status                                          16260 non-null  object \n",
      " 33  Dispatching Date                                   16260 non-null  object \n",
      " 34  Dispatching Time                                   16260 non-null  object \n",
      " 35  Priority                                           16166 non-null  object \n",
      " 36  Mobily FLM Feedback                                5312 non-null   object \n",
      " 37  ACES FLM Feedback                                  16260 non-null  object \n",
      " 38  Confirmed\n",
      "ACES Duration                            0 non-null      float64\n",
      " 39  FLM Comment                                        0 non-null      float64\n",
      " 40  Confirmed Owner                                    16260 non-null  object \n",
      " 41  Correlation TT No.                                 16260 non-null  object \n",
      " 42  Start\n",
      "(Date/Time)                                  16260 non-null  object \n",
      " 43  End\n",
      "(Date/Time)                                    16160 non-null  object \n",
      " 44  Duration                                           403 non-null    float64\n",
      " 45  Owner                                              16260 non-null  object \n",
      "dtypes: float64(7), object(39)\n",
      "memory usage: 5.7+ MB\n"
     ]
    }
   ],
   "source": [
    "df.info()"
   ]
  },
  {
   "cell_type": "code",
   "execution_count": 110,
   "metadata": {},
   "outputs": [
    {
     "data": {
      "text/html": [
       "<div>\n",
       "<style scoped>\n",
       "    .dataframe tbody tr th:only-of-type {\n",
       "        vertical-align: middle;\n",
       "    }\n",
       "\n",
       "    .dataframe tbody tr th {\n",
       "        vertical-align: top;\n",
       "    }\n",
       "\n",
       "    .dataframe thead th {\n",
       "        text-align: right;\n",
       "    }\n",
       "</style>\n",
       "<table border=\"1\" class=\"dataframe\">\n",
       "  <thead>\n",
       "    <tr style=\"text-align: right;\">\n",
       "      <th></th>\n",
       "      <th>Hub Site ID</th>\n",
       "      <th>Exact Number of Physical Impacted Sites</th>\n",
       "    </tr>\n",
       "  </thead>\n",
       "  <tbody>\n",
       "    <tr>\n",
       "      <th>716</th>\n",
       "      <td>C1643</td>\n",
       "      <td>39.0</td>\n",
       "    </tr>\n",
       "    <tr>\n",
       "      <th>1691</th>\n",
       "      <td>W5391</td>\n",
       "      <td>22.0</td>\n",
       "    </tr>\n",
       "    <tr>\n",
       "      <th>5204</th>\n",
       "      <td>C0650</td>\n",
       "      <td>28.0</td>\n",
       "    </tr>\n",
       "    <tr>\n",
       "      <th>5229</th>\n",
       "      <td>C1141</td>\n",
       "      <td>25.0</td>\n",
       "    </tr>\n",
       "    <tr>\n",
       "      <th>5687</th>\n",
       "      <td>C1490</td>\n",
       "      <td>23.0</td>\n",
       "    </tr>\n",
       "    <tr>\n",
       "      <th>6128</th>\n",
       "      <td>C1263</td>\n",
       "      <td>21.0</td>\n",
       "    </tr>\n",
       "    <tr>\n",
       "      <th>7157</th>\n",
       "      <td>W5658</td>\n",
       "      <td>34.0</td>\n",
       "    </tr>\n",
       "    <tr>\n",
       "      <th>7567</th>\n",
       "      <td>N6014</td>\n",
       "      <td>20.0</td>\n",
       "    </tr>\n",
       "    <tr>\n",
       "      <th>8058</th>\n",
       "      <td>C0434</td>\n",
       "      <td>30.0</td>\n",
       "    </tr>\n",
       "    <tr>\n",
       "      <th>8913</th>\n",
       "      <td>C1777</td>\n",
       "      <td>28.0</td>\n",
       "    </tr>\n",
       "    <tr>\n",
       "      <th>9311</th>\n",
       "      <td>N4212</td>\n",
       "      <td>58.0</td>\n",
       "    </tr>\n",
       "    <tr>\n",
       "      <th>9312</th>\n",
       "      <td>C1643</td>\n",
       "      <td>45.0</td>\n",
       "    </tr>\n",
       "    <tr>\n",
       "      <th>10020</th>\n",
       "      <td>W2579</td>\n",
       "      <td>24.0</td>\n",
       "    </tr>\n",
       "    <tr>\n",
       "      <th>10088</th>\n",
       "      <td>W2579</td>\n",
       "      <td>24.0</td>\n",
       "    </tr>\n",
       "    <tr>\n",
       "      <th>10379</th>\n",
       "      <td>S4795</td>\n",
       "      <td>30.0</td>\n",
       "    </tr>\n",
       "    <tr>\n",
       "      <th>11641</th>\n",
       "      <td>N6014</td>\n",
       "      <td>40.0</td>\n",
       "    </tr>\n",
       "    <tr>\n",
       "      <th>11795</th>\n",
       "      <td>C1490</td>\n",
       "      <td>24.0</td>\n",
       "    </tr>\n",
       "    <tr>\n",
       "      <th>11908</th>\n",
       "      <td>C6093</td>\n",
       "      <td>20.0</td>\n",
       "    </tr>\n",
       "    <tr>\n",
       "      <th>12000</th>\n",
       "      <td>C6093</td>\n",
       "      <td>20.0</td>\n",
       "    </tr>\n",
       "    <tr>\n",
       "      <th>12193</th>\n",
       "      <td>C1263</td>\n",
       "      <td>22.0</td>\n",
       "    </tr>\n",
       "    <tr>\n",
       "      <th>12758</th>\n",
       "      <td>C1777</td>\n",
       "      <td>44.0</td>\n",
       "    </tr>\n",
       "    <tr>\n",
       "      <th>13261</th>\n",
       "      <td>W2579</td>\n",
       "      <td>25.0</td>\n",
       "    </tr>\n",
       "    <tr>\n",
       "      <th>13365</th>\n",
       "      <td>W2579</td>\n",
       "      <td>25.0</td>\n",
       "    </tr>\n",
       "    <tr>\n",
       "      <th>13511</th>\n",
       "      <td>W2579</td>\n",
       "      <td>25.0</td>\n",
       "    </tr>\n",
       "    <tr>\n",
       "      <th>13573</th>\n",
       "      <td>C1006</td>\n",
       "      <td>26.0</td>\n",
       "    </tr>\n",
       "    <tr>\n",
       "      <th>14393</th>\n",
       "      <td>W2711</td>\n",
       "      <td>21.0</td>\n",
       "    </tr>\n",
       "    <tr>\n",
       "      <th>14449</th>\n",
       "      <td>W2256</td>\n",
       "      <td>22.0</td>\n",
       "    </tr>\n",
       "    <tr>\n",
       "      <th>14579</th>\n",
       "      <td>W2781</td>\n",
       "      <td>20.0</td>\n",
       "    </tr>\n",
       "    <tr>\n",
       "      <th>14944</th>\n",
       "      <td>S6055</td>\n",
       "      <td>22.0</td>\n",
       "    </tr>\n",
       "    <tr>\n",
       "      <th>15098</th>\n",
       "      <td>C1789</td>\n",
       "      <td>39.0</td>\n",
       "    </tr>\n",
       "    <tr>\n",
       "      <th>15315</th>\n",
       "      <td>W5334</td>\n",
       "      <td>22.0</td>\n",
       "    </tr>\n",
       "    <tr>\n",
       "      <th>15317</th>\n",
       "      <td>W0021</td>\n",
       "      <td>30.0</td>\n",
       "    </tr>\n",
       "  </tbody>\n",
       "</table>\n",
       "</div>"
      ],
      "text/plain": [
       "      Hub Site ID  Exact Number of Physical Impacted Sites \n",
       "716         C1643                                      39.0\n",
       "1691        W5391                                      22.0\n",
       "5204        C0650                                      28.0\n",
       "5229        C1141                                      25.0\n",
       "5687        C1490                                      23.0\n",
       "6128        C1263                                      21.0\n",
       "7157        W5658                                      34.0\n",
       "7567        N6014                                      20.0\n",
       "8058        C0434                                      30.0\n",
       "8913        C1777                                      28.0\n",
       "9311        N4212                                      58.0\n",
       "9312        C1643                                      45.0\n",
       "10020       W2579                                      24.0\n",
       "10088       W2579                                      24.0\n",
       "10379       S4795                                      30.0\n",
       "11641       N6014                                      40.0\n",
       "11795       C1490                                      24.0\n",
       "11908       C6093                                      20.0\n",
       "12000       C6093                                      20.0\n",
       "12193       C1263                                      22.0\n",
       "12758       C1777                                      44.0\n",
       "13261       W2579                                      25.0\n",
       "13365       W2579                                      25.0\n",
       "13511       W2579                                      25.0\n",
       "13573       C1006                                      26.0\n",
       "14393       W2711                                      21.0\n",
       "14449       W2256                                      22.0\n",
       "14579       W2781                                      20.0\n",
       "14944       S6055                                      22.0\n",
       "15098       C1789                                      39.0\n",
       "15315       W5334                                      22.0\n",
       "15317       W0021                                      30.0"
      ]
     },
     "execution_count": 110,
     "metadata": {},
     "output_type": "execute_result"
    }
   ],
   "source": [
    "df[df['Exact Number of Physical Impacted Sites '] >= 20 ][['Hub Site ID','Exact Number of Physical Impacted Sites ']] #.count()"
   ]
  },
  {
   "cell_type": "code",
   "execution_count": null,
   "metadata": {},
   "outputs": [],
   "source": [
    "df[]"
   ]
  },
  {
   "cell_type": "code",
   "execution_count": 90,
   "metadata": {},
   "outputs": [
    {
     "data": {
      "text/html": [
       "<div>\n",
       "<style scoped>\n",
       "    .dataframe tbody tr th:only-of-type {\n",
       "        vertical-align: middle;\n",
       "    }\n",
       "\n",
       "    .dataframe tbody tr th {\n",
       "        vertical-align: top;\n",
       "    }\n",
       "\n",
       "    .dataframe thead th {\n",
       "        text-align: right;\n",
       "    }\n",
       "</style>\n",
       "<table border=\"1\" class=\"dataframe\">\n",
       "  <thead>\n",
       "    <tr style=\"text-align: right;\">\n",
       "      <th></th>\n",
       "      <th>Region</th>\n",
       "      <th>Hub Site ID</th>\n",
       "      <th>Exact Number of Physical Impacted Sites</th>\n",
       "      <th>Fault Type</th>\n",
       "      <th>Action Taken</th>\n",
       "      <th>Remarks</th>\n",
       "      <th>Severity</th>\n",
       "    </tr>\n",
       "  </thead>\n",
       "  <tbody>\n",
       "    <tr>\n",
       "      <th>716</th>\n",
       "      <td>CR</td>\n",
       "      <td>C1643</td>\n",
       "      <td>39.0</td>\n",
       "      <td>Dual Genset Failure-Genset-Power</td>\n",
       "      <td>RC : Generator ATS contactor faulty AT : Team ...</td>\n",
       "      <td>NaN</td>\n",
       "      <td>Emergency</td>\n",
       "    </tr>\n",
       "    <tr>\n",
       "      <th>15098</th>\n",
       "      <td>CR</td>\n",
       "      <td>C1789</td>\n",
       "      <td>39.0</td>\n",
       "      <td>Single Genset Failure-Genset-Power</td>\n",
       "      <td>Hub 1487 Change AVR</td>\n",
       "      <td>As per MPLS main hub site is 1487</td>\n",
       "      <td>Emergency</td>\n",
       "    </tr>\n",
       "    <tr>\n",
       "      <th>5204</th>\n",
       "      <td>CR</td>\n",
       "      <td>C0650</td>\n",
       "      <td>28.0</td>\n",
       "      <td>Single Genset Failure-Genset-Power</td>\n",
       "      <td>Team Start Standby Generator manually.</td>\n",
       "      <td>RC: SCECO Phase missing, External alarms not a...</td>\n",
       "      <td>Emergency</td>\n",
       "    </tr>\n",
       "    <tr>\n",
       "      <th>5229</th>\n",
       "      <td>CR</td>\n",
       "      <td>C1141</td>\n",
       "      <td>25.0</td>\n",
       "      <td>Air Condition Issue-High Temperature-Environment</td>\n",
       "      <td>change compressor of AC</td>\n",
       "      <td>12 BC down</td>\n",
       "      <td>Emergency</td>\n",
       "    </tr>\n",
       "    <tr>\n",
       "      <th>5687</th>\n",
       "      <td>CR</td>\n",
       "      <td>C1490</td>\n",
       "      <td>23.0</td>\n",
       "      <td>Single Genset Failure-Genset-Power</td>\n",
       "      <td>SCECO power restored</td>\n",
       "      <td>BB got faulty, and team will replace it ASAP.</td>\n",
       "      <td>Critical</td>\n",
       "    </tr>\n",
       "    <tr>\n",
       "      <th>6128</th>\n",
       "      <td>CR</td>\n",
       "      <td>C1263</td>\n",
       "      <td>21.0</td>\n",
       "      <td>Single Genset Failure-Genset-Power</td>\n",
       "      <td>SCECO Restored</td>\n",
       "      <td>NaN</td>\n",
       "      <td>Critical</td>\n",
       "    </tr>\n",
       "    <tr>\n",
       "      <th>13573</th>\n",
       "      <td>CR</td>\n",
       "      <td>C1006</td>\n",
       "      <td>26.0</td>\n",
       "      <td>Air Condition Issue-High Temperature-Environment</td>\n",
       "      <td>Change condenser motor, change transformer in ...</td>\n",
       "      <td>The site is located in car parking for rental ...</td>\n",
       "      <td>Emergency</td>\n",
       "    </tr>\n",
       "    <tr>\n",
       "      <th>12758</th>\n",
       "      <td>CR</td>\n",
       "      <td>C1777</td>\n",
       "      <td>44.0</td>\n",
       "      <td>Single Genset Failure-Genset-Power</td>\n",
       "      <td>Sceco power restored</td>\n",
       "      <td>Connected sites down</td>\n",
       "      <td>Emergency</td>\n",
       "    </tr>\n",
       "    <tr>\n",
       "      <th>8058</th>\n",
       "      <td>CR</td>\n",
       "      <td>C0434</td>\n",
       "      <td>30.0</td>\n",
       "      <td>SEC Interruption-SEC Power-Power</td>\n",
       "      <td>SCECO power restored</td>\n",
       "      <td>NaN</td>\n",
       "      <td>Emergency</td>\n",
       "    </tr>\n",
       "    <tr>\n",
       "      <th>8913</th>\n",
       "      <td>CR</td>\n",
       "      <td>C1777</td>\n",
       "      <td>28.0</td>\n",
       "      <td>Single Genset Failure-Genset-Power</td>\n",
       "      <td>SCECO Phase restored</td>\n",
       "      <td>Power reset Observed</td>\n",
       "      <td>Emergency</td>\n",
       "    </tr>\n",
       "    <tr>\n",
       "      <th>12193</th>\n",
       "      <td>CR</td>\n",
       "      <td>C1263</td>\n",
       "      <td>22.0</td>\n",
       "      <td>Single Genset Failure-Genset-Power</td>\n",
       "      <td>SCECO Restored</td>\n",
       "      <td>NaN</td>\n",
       "      <td>Critical</td>\n",
       "    </tr>\n",
       "    <tr>\n",
       "      <th>9312</th>\n",
       "      <td>CR</td>\n",
       "      <td>C1643</td>\n",
       "      <td>45.0</td>\n",
       "      <td>Dual Genset Failure-Genset-Power</td>\n",
       "      <td>Team fixed ATS contactor and restarted the gen...</td>\n",
       "      <td>Site was halted / Team at the site TS</td>\n",
       "      <td>Emergency</td>\n",
       "    </tr>\n",
       "    <tr>\n",
       "      <th>12000</th>\n",
       "      <td>CR</td>\n",
       "      <td>C6093</td>\n",
       "      <td>20.0</td>\n",
       "      <td>Single Genset Failure-Genset-Power</td>\n",
       "      <td>Replaced AVR and restarted the generator.</td>\n",
       "      <td>Team need 20Min to reach the site</td>\n",
       "      <td>Critical</td>\n",
       "    </tr>\n",
       "    <tr>\n",
       "      <th>11908</th>\n",
       "      <td>CR</td>\n",
       "      <td>C6093</td>\n",
       "      <td>20.0</td>\n",
       "      <td>Single Genset Failure-Genset-Power</td>\n",
       "      <td>Replaced timing belt and restarted the generator</td>\n",
       "      <td>Team at site</td>\n",
       "      <td>Critical</td>\n",
       "    </tr>\n",
       "    <tr>\n",
       "      <th>11795</th>\n",
       "      <td>CR</td>\n",
       "      <td>C1490</td>\n",
       "      <td>24.0</td>\n",
       "      <td>Single Genset Failure-Genset-Power</td>\n",
       "      <td>Team reached the site and confirmed backup bat...</td>\n",
       "      <td>power reset observed</td>\n",
       "      <td>Critical</td>\n",
       "    </tr>\n",
       "    <tr>\n",
       "      <th>11641</th>\n",
       "      <td>NR</td>\n",
       "      <td>N6014</td>\n",
       "      <td>40.0</td>\n",
       "      <td>SEC Interruption-SEC Power-Power</td>\n",
       "      <td>SCECO Restored</td>\n",
       "      <td>NaN</td>\n",
       "      <td>Emergency</td>\n",
       "    </tr>\n",
       "    <tr>\n",
       "      <th>9311</th>\n",
       "      <td>NR</td>\n",
       "      <td>N4212</td>\n",
       "      <td>58.0</td>\n",
       "      <td>Dual Genset Failure-Genset-Power</td>\n",
       "      <td>Connected PG</td>\n",
       "      <td>Site was locked at 11:59</td>\n",
       "      <td>Emergency</td>\n",
       "    </tr>\n",
       "    <tr>\n",
       "      <th>7567</th>\n",
       "      <td>NR</td>\n",
       "      <td>N6014</td>\n",
       "      <td>20.0</td>\n",
       "      <td>SEC Interruption-SEC Power-Power</td>\n",
       "      <td>SCECO Restored</td>\n",
       "      <td>NaN</td>\n",
       "      <td>Critical</td>\n",
       "    </tr>\n",
       "    <tr>\n",
       "      <th>10379</th>\n",
       "      <td>SR</td>\n",
       "      <td>S4795</td>\n",
       "      <td>30.0</td>\n",
       "      <td>Single Genset Failure-Genset-Power</td>\n",
       "      <td>SCECO Restored</td>\n",
       "      <td>NaN</td>\n",
       "      <td>Emergency</td>\n",
       "    </tr>\n",
       "    <tr>\n",
       "      <th>14944</th>\n",
       "      <td>SR</td>\n",
       "      <td>S6055</td>\n",
       "      <td>22.0</td>\n",
       "      <td>SEC Interruption-SEC Power-Power</td>\n",
       "      <td>SCECO restored</td>\n",
       "      <td>NaN</td>\n",
       "      <td>Critical</td>\n",
       "    </tr>\n",
       "    <tr>\n",
       "      <th>10088</th>\n",
       "      <td>WR</td>\n",
       "      <td>W2579</td>\n",
       "      <td>24.0</td>\n",
       "      <td>SEC Interruption-SEC Power-Power</td>\n",
       "      <td>SCECO power restored</td>\n",
       "      <td>NaN</td>\n",
       "      <td>Critical</td>\n",
       "    </tr>\n",
       "    <tr>\n",
       "      <th>10020</th>\n",
       "      <td>WR</td>\n",
       "      <td>W2579</td>\n",
       "      <td>24.0</td>\n",
       "      <td>SEC Interruption-SEC Power-Power</td>\n",
       "      <td>SCECO power restored</td>\n",
       "      <td>Team at site and found that SCECO power not av...</td>\n",
       "      <td>Critical</td>\n",
       "    </tr>\n",
       "    <tr>\n",
       "      <th>13261</th>\n",
       "      <td>WR</td>\n",
       "      <td>W2579</td>\n",
       "      <td>25.0</td>\n",
       "      <td>SEC Interruption-SEC Power-Power</td>\n",
       "      <td>Team Connected Portable Generator.</td>\n",
       "      <td>Team at site and checking the issue.</td>\n",
       "      <td>Emergency</td>\n",
       "    </tr>\n",
       "    <tr>\n",
       "      <th>13365</th>\n",
       "      <td>WR</td>\n",
       "      <td>W2579</td>\n",
       "      <td>25.0</td>\n",
       "      <td>SEC Interruption-SEC Power-Power</td>\n",
       "      <td>SCECO Power Restored.</td>\n",
       "      <td>NaN</td>\n",
       "      <td>Emergency</td>\n",
       "    </tr>\n",
       "    <tr>\n",
       "      <th>13511</th>\n",
       "      <td>WR</td>\n",
       "      <td>W2579</td>\n",
       "      <td>25.0</td>\n",
       "      <td>SEC Interruption-SEC Power-Power</td>\n",
       "      <td>SCECO power restored</td>\n",
       "      <td>NaN</td>\n",
       "      <td>Emergency</td>\n",
       "    </tr>\n",
       "    <tr>\n",
       "      <th>7157</th>\n",
       "      <td>WR</td>\n",
       "      <td>W5658</td>\n",
       "      <td>34.0</td>\n",
       "      <td>Single Genset Failure-Genset-Power</td>\n",
       "      <td>Team replaced speed card and Restarted genset</td>\n",
       "      <td>NaN</td>\n",
       "      <td>Emergency</td>\n",
       "    </tr>\n",
       "    <tr>\n",
       "      <th>14393</th>\n",
       "      <td>WR</td>\n",
       "      <td>W2711</td>\n",
       "      <td>21.0</td>\n",
       "      <td>Single Genset Failure-Genset-Power</td>\n",
       "      <td>self restored</td>\n",
       "      <td>NaN</td>\n",
       "      <td>Critical</td>\n",
       "    </tr>\n",
       "    <tr>\n",
       "      <th>14449</th>\n",
       "      <td>WR</td>\n",
       "      <td>W2256</td>\n",
       "      <td>22.0</td>\n",
       "      <td>Single Genset Failure-Genset-Power</td>\n",
       "      <td>Team Connected Portable Generator.</td>\n",
       "      <td>Team visited the site and found that there gen...</td>\n",
       "      <td>Critical</td>\n",
       "    </tr>\n",
       "    <tr>\n",
       "      <th>14579</th>\n",
       "      <td>WR</td>\n",
       "      <td>W2781</td>\n",
       "      <td>20.0</td>\n",
       "      <td>Single Genset Failure-Genset-Power</td>\n",
       "      <td>Restarted the STB generator / SCECO power rest...</td>\n",
       "      <td>Team on the way need 60 min</td>\n",
       "      <td>Critical</td>\n",
       "    </tr>\n",
       "    <tr>\n",
       "      <th>1691</th>\n",
       "      <td>WR</td>\n",
       "      <td>W5391</td>\n",
       "      <td>22.0</td>\n",
       "      <td>Single Genset Failure-Genset-Power</td>\n",
       "      <td>Team replaced fan pully, fan belt and fixed co...</td>\n",
       "      <td>Team still TS Generator major issue</td>\n",
       "      <td>Critical</td>\n",
       "    </tr>\n",
       "    <tr>\n",
       "      <th>15315</th>\n",
       "      <td>WR</td>\n",
       "      <td>W5334</td>\n",
       "      <td>22.0</td>\n",
       "      <td>Air Condition Issue-High Temperature-Environment</td>\n",
       "      <td>Fixed the ATS Contactor issue.</td>\n",
       "      <td>Team at site and checking the issue.</td>\n",
       "      <td>Critical</td>\n",
       "    </tr>\n",
       "    <tr>\n",
       "      <th>15317</th>\n",
       "      <td>WR</td>\n",
       "      <td>W0021</td>\n",
       "      <td>30.0</td>\n",
       "      <td>SEC Interruption-SEC Power-Power</td>\n",
       "      <td>SCECO power restored</td>\n",
       "      <td>NaN</td>\n",
       "      <td>Emergency</td>\n",
       "    </tr>\n",
       "  </tbody>\n",
       "</table>\n",
       "</div>"
      ],
      "text/plain": [
       "      Region Hub Site ID  Exact Number of Physical Impacted Sites   \\\n",
       "716       CR       C1643                                      39.0   \n",
       "15098     CR       C1789                                      39.0   \n",
       "5204      CR       C0650                                      28.0   \n",
       "5229      CR       C1141                                      25.0   \n",
       "5687      CR       C1490                                      23.0   \n",
       "6128      CR       C1263                                      21.0   \n",
       "13573     CR       C1006                                      26.0   \n",
       "12758     CR       C1777                                      44.0   \n",
       "8058      CR       C0434                                      30.0   \n",
       "8913      CR       C1777                                      28.0   \n",
       "12193     CR       C1263                                      22.0   \n",
       "9312      CR       C1643                                      45.0   \n",
       "12000     CR       C6093                                      20.0   \n",
       "11908     CR       C6093                                      20.0   \n",
       "11795     CR       C1490                                      24.0   \n",
       "11641     NR       N6014                                      40.0   \n",
       "9311      NR       N4212                                      58.0   \n",
       "7567      NR       N6014                                      20.0   \n",
       "10379     SR       S4795                                      30.0   \n",
       "14944     SR       S6055                                      22.0   \n",
       "10088     WR       W2579                                      24.0   \n",
       "10020     WR       W2579                                      24.0   \n",
       "13261     WR       W2579                                      25.0   \n",
       "13365     WR       W2579                                      25.0   \n",
       "13511     WR       W2579                                      25.0   \n",
       "7157      WR       W5658                                      34.0   \n",
       "14393     WR       W2711                                      21.0   \n",
       "14449     WR       W2256                                      22.0   \n",
       "14579     WR       W2781                                      20.0   \n",
       "1691      WR       W5391                                      22.0   \n",
       "15315     WR       W5334                                      22.0   \n",
       "15317     WR       W0021                                      30.0   \n",
       "\n",
       "                                             Fault Type  \\\n",
       "716                    Dual Genset Failure-Genset-Power   \n",
       "15098                Single Genset Failure-Genset-Power   \n",
       "5204                 Single Genset Failure-Genset-Power   \n",
       "5229   Air Condition Issue-High Temperature-Environment   \n",
       "5687                 Single Genset Failure-Genset-Power   \n",
       "6128                 Single Genset Failure-Genset-Power   \n",
       "13573  Air Condition Issue-High Temperature-Environment   \n",
       "12758                Single Genset Failure-Genset-Power   \n",
       "8058                   SEC Interruption-SEC Power-Power   \n",
       "8913                 Single Genset Failure-Genset-Power   \n",
       "12193                Single Genset Failure-Genset-Power   \n",
       "9312                   Dual Genset Failure-Genset-Power   \n",
       "12000                Single Genset Failure-Genset-Power   \n",
       "11908                Single Genset Failure-Genset-Power   \n",
       "11795                Single Genset Failure-Genset-Power   \n",
       "11641                  SEC Interruption-SEC Power-Power   \n",
       "9311                   Dual Genset Failure-Genset-Power   \n",
       "7567                   SEC Interruption-SEC Power-Power   \n",
       "10379                Single Genset Failure-Genset-Power   \n",
       "14944                  SEC Interruption-SEC Power-Power   \n",
       "10088                  SEC Interruption-SEC Power-Power   \n",
       "10020                  SEC Interruption-SEC Power-Power   \n",
       "13261                  SEC Interruption-SEC Power-Power   \n",
       "13365                  SEC Interruption-SEC Power-Power   \n",
       "13511                  SEC Interruption-SEC Power-Power   \n",
       "7157                 Single Genset Failure-Genset-Power   \n",
       "14393                Single Genset Failure-Genset-Power   \n",
       "14449                Single Genset Failure-Genset-Power   \n",
       "14579                Single Genset Failure-Genset-Power   \n",
       "1691                 Single Genset Failure-Genset-Power   \n",
       "15315  Air Condition Issue-High Temperature-Environment   \n",
       "15317                  SEC Interruption-SEC Power-Power   \n",
       "\n",
       "                                            Action Taken  \\\n",
       "716    RC : Generator ATS contactor faulty AT : Team ...   \n",
       "15098                                Hub 1487 Change AVR   \n",
       "5204              Team Start Standby Generator manually.   \n",
       "5229                             change compressor of AC   \n",
       "5687                                SCECO power restored   \n",
       "6128                                      SCECO Restored   \n",
       "13573  Change condenser motor, change transformer in ...   \n",
       "12758                               Sceco power restored   \n",
       "8058                                SCECO power restored   \n",
       "8913                                SCECO Phase restored   \n",
       "12193                                     SCECO Restored   \n",
       "9312   Team fixed ATS contactor and restarted the gen...   \n",
       "12000          Replaced AVR and restarted the generator.   \n",
       "11908   Replaced timing belt and restarted the generator   \n",
       "11795  Team reached the site and confirmed backup bat...   \n",
       "11641                                     SCECO Restored   \n",
       "9311                                        Connected PG   \n",
       "7567                                      SCECO Restored   \n",
       "10379                                     SCECO Restored   \n",
       "14944                                     SCECO restored   \n",
       "10088                               SCECO power restored   \n",
       "10020                               SCECO power restored   \n",
       "13261                 Team Connected Portable Generator.   \n",
       "13365                              SCECO Power Restored.   \n",
       "13511                               SCECO power restored   \n",
       "7157       Team replaced speed card and Restarted genset   \n",
       "14393                                      self restored   \n",
       "14449                 Team Connected Portable Generator.   \n",
       "14579  Restarted the STB generator / SCECO power rest...   \n",
       "1691   Team replaced fan pully, fan belt and fixed co...   \n",
       "15315                     Fixed the ATS Contactor issue.   \n",
       "15317                               SCECO power restored   \n",
       "\n",
       "                                                 Remarks   Severity  \n",
       "716                                                  NaN  Emergency  \n",
       "15098                  As per MPLS main hub site is 1487  Emergency  \n",
       "5204   RC: SCECO Phase missing, External alarms not a...  Emergency  \n",
       "5229                                          12 BC down  Emergency  \n",
       "5687       BB got faulty, and team will replace it ASAP.   Critical  \n",
       "6128                                                 NaN   Critical  \n",
       "13573  The site is located in car parking for rental ...  Emergency  \n",
       "12758                               Connected sites down  Emergency  \n",
       "8058                                                 NaN  Emergency  \n",
       "8913                               Power reset Observed   Emergency  \n",
       "12193                                                NaN   Critical  \n",
       "9312               Site was halted / Team at the site TS  Emergency  \n",
       "12000                  Team need 20Min to reach the site   Critical  \n",
       "11908                                       Team at site   Critical  \n",
       "11795                               power reset observed   Critical  \n",
       "11641                                                NaN  Emergency  \n",
       "9311                            Site was locked at 11:59  Emergency  \n",
       "7567                                                 NaN   Critical  \n",
       "10379                                                NaN  Emergency  \n",
       "14944                                                NaN   Critical  \n",
       "10088                                                NaN   Critical  \n",
       "10020  Team at site and found that SCECO power not av...   Critical  \n",
       "13261               Team at site and checking the issue.  Emergency  \n",
       "13365                                                NaN  Emergency  \n",
       "13511                                                NaN  Emergency  \n",
       "7157                                                 NaN  Emergency  \n",
       "14393                                                NaN   Critical  \n",
       "14449  Team visited the site and found that there gen...   Critical  \n",
       "14579                        Team on the way need 60 min   Critical  \n",
       "1691                 Team still TS Generator major issue   Critical  \n",
       "15315               Team at site and checking the issue.   Critical  \n",
       "15317                                                NaN  Emergency  "
      ]
     },
     "execution_count": 90,
     "metadata": {},
     "output_type": "execute_result"
    }
   ],
   "source": [
    "df[df['Exact Number of Physical Impacted Sites ']>=20][['Region','Hub Site ID','Exact Number of Physical Impacted Sites ','Fault Type','Action Taken','Remarks','Severity',]].sort_values('Region',ascending=True)"
   ]
  },
  {
   "cell_type": "code",
   "execution_count": 98,
   "metadata": {},
   "outputs": [
    {
     "data": {
      "text/plain": [
       "count                    16260\n",
       "unique                   16260\n",
       "top       E&M-SA-202207-001264\n",
       "freq                         1\n",
       "Name: TT Number, dtype: object"
      ]
     },
     "execution_count": 98,
     "metadata": {},
     "output_type": "execute_result"
    }
   ],
   "source": [
    "df['TT Number'].describe()"
   ]
  },
  {
   "cell_type": "code",
   "execution_count": 106,
   "metadata": {},
   "outputs": [
    {
     "data": {
      "text/html": [
       "<div>\n",
       "<style scoped>\n",
       "    .dataframe tbody tr th:only-of-type {\n",
       "        vertical-align: middle;\n",
       "    }\n",
       "\n",
       "    .dataframe tbody tr th {\n",
       "        vertical-align: top;\n",
       "    }\n",
       "\n",
       "    .dataframe thead th {\n",
       "        text-align: right;\n",
       "    }\n",
       "</style>\n",
       "<table border=\"1\" class=\"dataframe\">\n",
       "  <thead>\n",
       "    <tr style=\"text-align: right;\">\n",
       "      <th></th>\n",
       "      <th></th>\n",
       "      <th>TT Number</th>\n",
       "      <th>Exact Number of Physical Impacted Sites</th>\n",
       "    </tr>\n",
       "    <tr>\n",
       "      <th>Hub Site ID</th>\n",
       "      <th>Region</th>\n",
       "      <th></th>\n",
       "      <th></th>\n",
       "    </tr>\n",
       "  </thead>\n",
       "  <tbody>\n",
       "    <tr>\n",
       "      <th>W2579</th>\n",
       "      <th>WR</th>\n",
       "      <td>5</td>\n",
       "      <td>123.0</td>\n",
       "    </tr>\n",
       "    <tr>\n",
       "      <th>N6014</th>\n",
       "      <th>NR</th>\n",
       "      <td>2</td>\n",
       "      <td>60.0</td>\n",
       "    </tr>\n",
       "    <tr>\n",
       "      <th>C1263</th>\n",
       "      <th>CR</th>\n",
       "      <td>2</td>\n",
       "      <td>43.0</td>\n",
       "    </tr>\n",
       "    <tr>\n",
       "      <th>C1490</th>\n",
       "      <th>CR</th>\n",
       "      <td>2</td>\n",
       "      <td>47.0</td>\n",
       "    </tr>\n",
       "    <tr>\n",
       "      <th>C1643</th>\n",
       "      <th>CR</th>\n",
       "      <td>2</td>\n",
       "      <td>84.0</td>\n",
       "    </tr>\n",
       "    <tr>\n",
       "      <th>C1777</th>\n",
       "      <th>CR</th>\n",
       "      <td>2</td>\n",
       "      <td>72.0</td>\n",
       "    </tr>\n",
       "    <tr>\n",
       "      <th>C6093</th>\n",
       "      <th>CR</th>\n",
       "      <td>2</td>\n",
       "      <td>40.0</td>\n",
       "    </tr>\n",
       "    <tr>\n",
       "      <th>W0021</th>\n",
       "      <th>WR</th>\n",
       "      <td>1</td>\n",
       "      <td>30.0</td>\n",
       "    </tr>\n",
       "    <tr>\n",
       "      <th>W5391</th>\n",
       "      <th>WR</th>\n",
       "      <td>1</td>\n",
       "      <td>22.0</td>\n",
       "    </tr>\n",
       "    <tr>\n",
       "      <th>W5334</th>\n",
       "      <th>WR</th>\n",
       "      <td>1</td>\n",
       "      <td>22.0</td>\n",
       "    </tr>\n",
       "    <tr>\n",
       "      <th>W2781</th>\n",
       "      <th>WR</th>\n",
       "      <td>1</td>\n",
       "      <td>20.0</td>\n",
       "    </tr>\n",
       "    <tr>\n",
       "      <th>W2711</th>\n",
       "      <th>WR</th>\n",
       "      <td>1</td>\n",
       "      <td>21.0</td>\n",
       "    </tr>\n",
       "    <tr>\n",
       "      <th>W2256</th>\n",
       "      <th>WR</th>\n",
       "      <td>1</td>\n",
       "      <td>22.0</td>\n",
       "    </tr>\n",
       "    <tr>\n",
       "      <th>C0434</th>\n",
       "      <th>CR</th>\n",
       "      <td>1</td>\n",
       "      <td>30.0</td>\n",
       "    </tr>\n",
       "    <tr>\n",
       "      <th>S6055</th>\n",
       "      <th>SR</th>\n",
       "      <td>1</td>\n",
       "      <td>22.0</td>\n",
       "    </tr>\n",
       "    <tr>\n",
       "      <th>S4795</th>\n",
       "      <th>SR</th>\n",
       "      <td>1</td>\n",
       "      <td>30.0</td>\n",
       "    </tr>\n",
       "    <tr>\n",
       "      <th>C0650</th>\n",
       "      <th>CR</th>\n",
       "      <td>1</td>\n",
       "      <td>28.0</td>\n",
       "    </tr>\n",
       "    <tr>\n",
       "      <th>N4212</th>\n",
       "      <th>NR</th>\n",
       "      <td>1</td>\n",
       "      <td>58.0</td>\n",
       "    </tr>\n",
       "    <tr>\n",
       "      <th>C1789</th>\n",
       "      <th>CR</th>\n",
       "      <td>1</td>\n",
       "      <td>39.0</td>\n",
       "    </tr>\n",
       "    <tr>\n",
       "      <th>C1141</th>\n",
       "      <th>CR</th>\n",
       "      <td>1</td>\n",
       "      <td>25.0</td>\n",
       "    </tr>\n",
       "    <tr>\n",
       "      <th>C1006</th>\n",
       "      <th>CR</th>\n",
       "      <td>1</td>\n",
       "      <td>26.0</td>\n",
       "    </tr>\n",
       "    <tr>\n",
       "      <th>W5658</th>\n",
       "      <th>WR</th>\n",
       "      <td>1</td>\n",
       "      <td>34.0</td>\n",
       "    </tr>\n",
       "  </tbody>\n",
       "</table>\n",
       "</div>"
      ],
      "text/plain": [
       "                    TT Number  Exact Number of Physical Impacted Sites \n",
       "Hub Site ID Region                                                     \n",
       "W2579       WR              5                                     123.0\n",
       "N6014       NR              2                                      60.0\n",
       "C1263       CR              2                                      43.0\n",
       "C1490       CR              2                                      47.0\n",
       "C1643       CR              2                                      84.0\n",
       "C1777       CR              2                                      72.0\n",
       "C6093       CR              2                                      40.0\n",
       "W0021       WR              1                                      30.0\n",
       "W5391       WR              1                                      22.0\n",
       "W5334       WR              1                                      22.0\n",
       "W2781       WR              1                                      20.0\n",
       "W2711       WR              1                                      21.0\n",
       "W2256       WR              1                                      22.0\n",
       "C0434       CR              1                                      30.0\n",
       "S6055       SR              1                                      22.0\n",
       "S4795       SR              1                                      30.0\n",
       "C0650       CR              1                                      28.0\n",
       "N4212       NR              1                                      58.0\n",
       "C1789       CR              1                                      39.0\n",
       "C1141       CR              1                                      25.0\n",
       "C1006       CR              1                                      26.0\n",
       "W5658       WR              1                                      34.0"
      ]
     },
     "execution_count": 106,
     "metadata": {},
     "output_type": "execute_result"
    }
   ],
   "source": [
    "df[df['Exact Number of Physical Impacted Sites '] >= 20 ].groupby( ['Hub Site ID' ,'Region']).aggregate({'TT Number':'count','Exact Number of Physical Impacted Sites ':'sum'}).sort_values('TT Number', ascending=False) #.unstack().plot(kind='bar')"
   ]
  },
  {
   "cell_type": "code",
   "execution_count": null,
   "metadata": {},
   "outputs": [],
   "source": []
  },
  {
   "cell_type": "code",
   "execution_count": null,
   "metadata": {},
   "outputs": [],
   "source": []
  },
  {
   "cell_type": "code",
   "execution_count": 7,
   "metadata": {},
   "outputs": [
    {
     "data": {
      "text/plain": [
       "count     16260\n",
       "unique     5085\n",
       "top       C6270\n",
       "freq         89\n",
       "Name: Hub Site ID, dtype: object"
      ]
     },
     "execution_count": 7,
     "metadata": {},
     "output_type": "execute_result"
    }
   ],
   "source": [
    "df['Hub Site ID'].describe()"
   ]
  },
  {
   "cell_type": "code",
   "execution_count": null,
   "metadata": {},
   "outputs": [],
   "source": [
    "df[]"
   ]
  },
  {
   "cell_type": "code",
   "execution_count": 21,
   "metadata": {},
   "outputs": [
    {
     "name": "stderr",
     "output_type": "stream",
     "text": [
      "C:\\Users\\Mazhar\\AppData\\Local\\Temp\\ipykernel_13520\\420130035.py:1: UserWarning: Boolean Series key will be reindexed to match DataFrame index.\n",
      "  df[df['Region']=='CR'][df['Exact Number of Physical Impacted Sites ']>=15]['Hub Site ID'].value_counts()\n"
     ]
    },
    {
     "data": {
      "text/plain": [
       "C0254    4\n",
       "C4968    2\n",
       "C1643    2\n",
       "C1490    2\n",
       "C1263    2\n",
       "C1777    2\n",
       "C1251    2\n",
       "C6116    2\n",
       "C6093    2\n",
       "C6153    1\n",
       "C0650    1\n",
       "C1141    1\n",
       "C0434    1\n",
       "C1275    1\n",
       "C1006    1\n",
       "C1789    1\n",
       "Name: Hub Site ID, dtype: int64"
      ]
     },
     "execution_count": 21,
     "metadata": {},
     "output_type": "execute_result"
    }
   ],
   "source": [
    "df[df['Region']=='CR'][df['Exact Number of Physical Impacted Sites ']>=15]['Hub Site ID'].value_counts()"
   ]
  },
  {
   "cell_type": "code",
   "execution_count": 15,
   "metadata": {},
   "outputs": [
    {
     "data": {
      "text/plain": [
       "count      2584\n",
       "unique      844\n",
       "top       E6147\n",
       "freq         29\n",
       "Name: Hub Site ID, dtype: object"
      ]
     },
     "execution_count": 15,
     "metadata": {},
     "output_type": "execute_result"
    }
   ],
   "source": [
    "df[df['Region']=='ER']['Hub Site ID'].describe()\n"
   ]
  },
  {
   "cell_type": "code",
   "execution_count": null,
   "metadata": {},
   "outputs": [],
   "source": []
  },
  {
   "cell_type": "code",
   "execution_count": null,
   "metadata": {},
   "outputs": [],
   "source": []
  },
  {
   "cell_type": "code",
   "execution_count": 9,
   "metadata": {},
   "outputs": [
    {
     "data": {
      "text/plain": [
       "C6270    89\n",
       "C6271    85\n",
       "C6280    62\n",
       "C6206    61\n",
       "C7051    41\n",
       "C6076    39\n",
       "C5025    37\n",
       "C1530    36\n",
       "W4841    33\n",
       "W1360    32\n",
       "Name: Hub Site ID, dtype: int64"
      ]
     },
     "execution_count": 9,
     "metadata": {},
     "output_type": "execute_result"
    }
   ],
   "source": [
    "df['Hub Site ID'].value_counts().head(10)"
   ]
  },
  {
   "cell_type": "code",
   "execution_count": 10,
   "metadata": {},
   "outputs": [
    {
     "data": {
      "text/plain": [
       "count     16220\n",
       "unique       24\n",
       "top          GF\n",
       "freq      14169\n",
       "Name: Site Type, dtype: object"
      ]
     },
     "execution_count": 10,
     "metadata": {},
     "output_type": "execute_result"
    }
   ],
   "source": [
    "df['Site Type'].describe()"
   ]
  },
  {
   "cell_type": "code",
   "execution_count": 11,
   "metadata": {},
   "outputs": [
    {
     "data": {
      "text/plain": [
       "GF                        14169\n",
       "RT                         1857\n",
       "IBS                          90\n",
       "IBS-Active-Third Party       20\n",
       "RDU                          15\n",
       "Microcell                    14\n",
       "GF ODU                        9\n",
       "ODC-RT                        7\n",
       "ODC-GF                        7\n",
       "RDU Minishelter               7\n",
       "GF-ODC                        6\n",
       "Pico Cell                     3\n",
       "RT-ODC                        2\n",
       "GF Tower                      2\n",
       "RT Minishelter                2\n",
       "IBS-Active-STC                2\n",
       "IBS-Active-Mobily             1\n",
       "GF (Tawal Sharing)            1\n",
       "Tower                         1\n",
       "IBS-Passive-Mobily            1\n",
       "IBS-Passive-STC               1\n",
       "RDU Mini-Shelter              1\n",
       "Indoor                        1\n",
       "RT (Tawal Sharing)            1\n",
       "Name: Site Type, dtype: int64"
      ]
     },
     "execution_count": 11,
     "metadata": {},
     "output_type": "execute_result"
    }
   ],
   "source": [
    "df['Site Type'].value_counts()"
   ]
  },
  {
   "cell_type": "code",
   "execution_count": 3,
   "metadata": {},
   "outputs": [
    {
     "data": {
      "text/plain": [
       "count              16215\n",
       "unique                 9\n",
       "top       Available-Dead\n",
       "freq                4518\n",
       "Name: Battery status, dtype: object"
      ]
     },
     "execution_count": 3,
     "metadata": {},
     "output_type": "execute_result"
    }
   ],
   "source": [
    "df['Battery status'].describe()"
   ]
  },
  {
   "cell_type": "code",
   "execution_count": 4,
   "metadata": {},
   "outputs": [
    {
     "data": {
      "text/plain": [
       "Available-Dead          4518\n",
       "Available-Good          4389\n",
       "No BB (Stolen)          4359\n",
       "Available-Weak          2693\n",
       "No BB (Design)           242\n",
       "No BB                      5\n",
       "qurtubah+O2944:S2944       5\n",
       "Available-Temporary        3\n",
       "Available-Temporary        1\n",
       "Name: Battery status, dtype: int64"
      ]
     },
     "execution_count": 4,
     "metadata": {},
     "output_type": "execute_result"
    }
   ],
   "source": [
    "df['Battery status'].value_counts()"
   ]
  },
  {
   "cell_type": "code",
   "execution_count": 3,
   "metadata": {},
   "outputs": [
    {
     "data": {
      "text/plain": [
       "(16260, 46)"
      ]
     },
     "execution_count": 3,
     "metadata": {},
     "output_type": "execute_result"
    }
   ],
   "source": [
    "df.shape"
   ]
  },
  {
   "cell_type": "markdown",
   "metadata": {},
   "source": [
    "##### above we can see the shape of data \n",
    "- No of Rows - 16260,\n",
    "- No of Columns - 46."
   ]
  },
  {
   "cell_type": "code",
   "execution_count": 4,
   "metadata": {},
   "outputs": [
    {
     "data": {
      "text/html": [
       "<div>\n",
       "<style scoped>\n",
       "    .dataframe tbody tr th:only-of-type {\n",
       "        vertical-align: middle;\n",
       "    }\n",
       "\n",
       "    .dataframe tbody tr th {\n",
       "        vertical-align: top;\n",
       "    }\n",
       "\n",
       "    .dataframe thead th {\n",
       "        text-align: right;\n",
       "    }\n",
       "</style>\n",
       "<table border=\"1\" class=\"dataframe\">\n",
       "  <thead>\n",
       "    <tr style=\"text-align: right;\">\n",
       "      <th></th>\n",
       "      <th>#</th>\n",
       "      <th>Hub Site ID</th>\n",
       "      <th>Region</th>\n",
       "      <th>Area</th>\n",
       "      <th>Connectivity</th>\n",
       "      <th>Site Type</th>\n",
       "      <th>Power configuration</th>\n",
       "      <th>Battery status</th>\n",
       "      <th>Exact Number of Physical Impacted Sites</th>\n",
       "      <th>All Impacted Couts</th>\n",
       "      <th>...</th>\n",
       "      <th>Mobily FLM Feedback</th>\n",
       "      <th>ACES FLM Feedback</th>\n",
       "      <th>Confirmed\\nACES Duration</th>\n",
       "      <th>FLM Comment</th>\n",
       "      <th>Confirmed Owner</th>\n",
       "      <th>Correlation TT No.</th>\n",
       "      <th>Start\\n(Date/Time)</th>\n",
       "      <th>End\\n(Date/Time)</th>\n",
       "      <th>Duration</th>\n",
       "      <th>Owner</th>\n",
       "    </tr>\n",
       "  </thead>\n",
       "  <tbody>\n",
       "    <tr>\n",
       "      <th>0</th>\n",
       "      <td>False</td>\n",
       "      <td>False</td>\n",
       "      <td>False</td>\n",
       "      <td>False</td>\n",
       "      <td>False</td>\n",
       "      <td>False</td>\n",
       "      <td>False</td>\n",
       "      <td>False</td>\n",
       "      <td>False</td>\n",
       "      <td>False</td>\n",
       "      <td>...</td>\n",
       "      <td>True</td>\n",
       "      <td>False</td>\n",
       "      <td>True</td>\n",
       "      <td>True</td>\n",
       "      <td>False</td>\n",
       "      <td>False</td>\n",
       "      <td>False</td>\n",
       "      <td>True</td>\n",
       "      <td>True</td>\n",
       "      <td>False</td>\n",
       "    </tr>\n",
       "    <tr>\n",
       "      <th>1</th>\n",
       "      <td>False</td>\n",
       "      <td>False</td>\n",
       "      <td>False</td>\n",
       "      <td>False</td>\n",
       "      <td>False</td>\n",
       "      <td>False</td>\n",
       "      <td>False</td>\n",
       "      <td>False</td>\n",
       "      <td>False</td>\n",
       "      <td>False</td>\n",
       "      <td>...</td>\n",
       "      <td>True</td>\n",
       "      <td>False</td>\n",
       "      <td>True</td>\n",
       "      <td>True</td>\n",
       "      <td>False</td>\n",
       "      <td>False</td>\n",
       "      <td>False</td>\n",
       "      <td>True</td>\n",
       "      <td>True</td>\n",
       "      <td>False</td>\n",
       "    </tr>\n",
       "    <tr>\n",
       "      <th>2</th>\n",
       "      <td>False</td>\n",
       "      <td>False</td>\n",
       "      <td>False</td>\n",
       "      <td>False</td>\n",
       "      <td>False</td>\n",
       "      <td>False</td>\n",
       "      <td>False</td>\n",
       "      <td>False</td>\n",
       "      <td>False</td>\n",
       "      <td>False</td>\n",
       "      <td>...</td>\n",
       "      <td>True</td>\n",
       "      <td>False</td>\n",
       "      <td>True</td>\n",
       "      <td>True</td>\n",
       "      <td>False</td>\n",
       "      <td>False</td>\n",
       "      <td>False</td>\n",
       "      <td>True</td>\n",
       "      <td>True</td>\n",
       "      <td>False</td>\n",
       "    </tr>\n",
       "    <tr>\n",
       "      <th>3</th>\n",
       "      <td>False</td>\n",
       "      <td>False</td>\n",
       "      <td>False</td>\n",
       "      <td>False</td>\n",
       "      <td>False</td>\n",
       "      <td>False</td>\n",
       "      <td>False</td>\n",
       "      <td>False</td>\n",
       "      <td>False</td>\n",
       "      <td>False</td>\n",
       "      <td>...</td>\n",
       "      <td>False</td>\n",
       "      <td>False</td>\n",
       "      <td>True</td>\n",
       "      <td>True</td>\n",
       "      <td>False</td>\n",
       "      <td>False</td>\n",
       "      <td>False</td>\n",
       "      <td>True</td>\n",
       "      <td>True</td>\n",
       "      <td>False</td>\n",
       "    </tr>\n",
       "    <tr>\n",
       "      <th>4</th>\n",
       "      <td>False</td>\n",
       "      <td>False</td>\n",
       "      <td>False</td>\n",
       "      <td>False</td>\n",
       "      <td>False</td>\n",
       "      <td>False</td>\n",
       "      <td>False</td>\n",
       "      <td>False</td>\n",
       "      <td>False</td>\n",
       "      <td>False</td>\n",
       "      <td>...</td>\n",
       "      <td>True</td>\n",
       "      <td>False</td>\n",
       "      <td>True</td>\n",
       "      <td>True</td>\n",
       "      <td>False</td>\n",
       "      <td>False</td>\n",
       "      <td>False</td>\n",
       "      <td>True</td>\n",
       "      <td>True</td>\n",
       "      <td>False</td>\n",
       "    </tr>\n",
       "    <tr>\n",
       "      <th>...</th>\n",
       "      <td>...</td>\n",
       "      <td>...</td>\n",
       "      <td>...</td>\n",
       "      <td>...</td>\n",
       "      <td>...</td>\n",
       "      <td>...</td>\n",
       "      <td>...</td>\n",
       "      <td>...</td>\n",
       "      <td>...</td>\n",
       "      <td>...</td>\n",
       "      <td>...</td>\n",
       "      <td>...</td>\n",
       "      <td>...</td>\n",
       "      <td>...</td>\n",
       "      <td>...</td>\n",
       "      <td>...</td>\n",
       "      <td>...</td>\n",
       "      <td>...</td>\n",
       "      <td>...</td>\n",
       "      <td>...</td>\n",
       "      <td>...</td>\n",
       "    </tr>\n",
       "    <tr>\n",
       "      <th>16255</th>\n",
       "      <td>False</td>\n",
       "      <td>False</td>\n",
       "      <td>False</td>\n",
       "      <td>False</td>\n",
       "      <td>True</td>\n",
       "      <td>False</td>\n",
       "      <td>False</td>\n",
       "      <td>False</td>\n",
       "      <td>False</td>\n",
       "      <td>False</td>\n",
       "      <td>...</td>\n",
       "      <td>False</td>\n",
       "      <td>False</td>\n",
       "      <td>True</td>\n",
       "      <td>True</td>\n",
       "      <td>False</td>\n",
       "      <td>False</td>\n",
       "      <td>False</td>\n",
       "      <td>True</td>\n",
       "      <td>True</td>\n",
       "      <td>False</td>\n",
       "    </tr>\n",
       "    <tr>\n",
       "      <th>16256</th>\n",
       "      <td>False</td>\n",
       "      <td>False</td>\n",
       "      <td>False</td>\n",
       "      <td>False</td>\n",
       "      <td>False</td>\n",
       "      <td>False</td>\n",
       "      <td>False</td>\n",
       "      <td>False</td>\n",
       "      <td>False</td>\n",
       "      <td>False</td>\n",
       "      <td>...</td>\n",
       "      <td>False</td>\n",
       "      <td>False</td>\n",
       "      <td>True</td>\n",
       "      <td>True</td>\n",
       "      <td>False</td>\n",
       "      <td>False</td>\n",
       "      <td>False</td>\n",
       "      <td>False</td>\n",
       "      <td>False</td>\n",
       "      <td>False</td>\n",
       "    </tr>\n",
       "    <tr>\n",
       "      <th>16257</th>\n",
       "      <td>False</td>\n",
       "      <td>False</td>\n",
       "      <td>False</td>\n",
       "      <td>False</td>\n",
       "      <td>False</td>\n",
       "      <td>False</td>\n",
       "      <td>False</td>\n",
       "      <td>False</td>\n",
       "      <td>False</td>\n",
       "      <td>False</td>\n",
       "      <td>...</td>\n",
       "      <td>False</td>\n",
       "      <td>False</td>\n",
       "      <td>True</td>\n",
       "      <td>True</td>\n",
       "      <td>False</td>\n",
       "      <td>False</td>\n",
       "      <td>False</td>\n",
       "      <td>True</td>\n",
       "      <td>True</td>\n",
       "      <td>False</td>\n",
       "    </tr>\n",
       "    <tr>\n",
       "      <th>16258</th>\n",
       "      <td>False</td>\n",
       "      <td>False</td>\n",
       "      <td>False</td>\n",
       "      <td>False</td>\n",
       "      <td>False</td>\n",
       "      <td>False</td>\n",
       "      <td>False</td>\n",
       "      <td>False</td>\n",
       "      <td>False</td>\n",
       "      <td>False</td>\n",
       "      <td>...</td>\n",
       "      <td>False</td>\n",
       "      <td>False</td>\n",
       "      <td>True</td>\n",
       "      <td>True</td>\n",
       "      <td>False</td>\n",
       "      <td>False</td>\n",
       "      <td>False</td>\n",
       "      <td>True</td>\n",
       "      <td>True</td>\n",
       "      <td>False</td>\n",
       "    </tr>\n",
       "    <tr>\n",
       "      <th>16259</th>\n",
       "      <td>False</td>\n",
       "      <td>False</td>\n",
       "      <td>False</td>\n",
       "      <td>False</td>\n",
       "      <td>False</td>\n",
       "      <td>False</td>\n",
       "      <td>False</td>\n",
       "      <td>False</td>\n",
       "      <td>False</td>\n",
       "      <td>False</td>\n",
       "      <td>...</td>\n",
       "      <td>False</td>\n",
       "      <td>False</td>\n",
       "      <td>True</td>\n",
       "      <td>True</td>\n",
       "      <td>False</td>\n",
       "      <td>False</td>\n",
       "      <td>False</td>\n",
       "      <td>False</td>\n",
       "      <td>False</td>\n",
       "      <td>False</td>\n",
       "    </tr>\n",
       "  </tbody>\n",
       "</table>\n",
       "<p>16260 rows × 46 columns</p>\n",
       "</div>"
      ],
      "text/plain": [
       "           #  Hub Site ID  Region   Area  Connectivity  Site Type  \\\n",
       "0      False        False   False  False         False      False   \n",
       "1      False        False   False  False         False      False   \n",
       "2      False        False   False  False         False      False   \n",
       "3      False        False   False  False         False      False   \n",
       "4      False        False   False  False         False      False   \n",
       "...      ...          ...     ...    ...           ...        ...   \n",
       "16255  False        False   False  False          True      False   \n",
       "16256  False        False   False  False         False      False   \n",
       "16257  False        False   False  False         False      False   \n",
       "16258  False        False   False  False         False      False   \n",
       "16259  False        False   False  False         False      False   \n",
       "\n",
       "       Power configuration  Battery status  \\\n",
       "0                    False           False   \n",
       "1                    False           False   \n",
       "2                    False           False   \n",
       "3                    False           False   \n",
       "4                    False           False   \n",
       "...                    ...             ...   \n",
       "16255                False           False   \n",
       "16256                False           False   \n",
       "16257                False           False   \n",
       "16258                False           False   \n",
       "16259                False           False   \n",
       "\n",
       "       Exact Number of Physical Impacted Sites   All Impacted Couts  ...  \\\n",
       "0                                         False               False  ...   \n",
       "1                                         False               False  ...   \n",
       "2                                         False               False  ...   \n",
       "3                                         False               False  ...   \n",
       "4                                         False               False  ...   \n",
       "...                                         ...                 ...  ...   \n",
       "16255                                     False               False  ...   \n",
       "16256                                     False               False  ...   \n",
       "16257                                     False               False  ...   \n",
       "16258                                     False               False  ...   \n",
       "16259                                     False               False  ...   \n",
       "\n",
       "       Mobily FLM Feedback  ACES FLM Feedback  Confirmed\\nACES Duration  \\\n",
       "0                     True              False                      True   \n",
       "1                     True              False                      True   \n",
       "2                     True              False                      True   \n",
       "3                    False              False                      True   \n",
       "4                     True              False                      True   \n",
       "...                    ...                ...                       ...   \n",
       "16255                False              False                      True   \n",
       "16256                False              False                      True   \n",
       "16257                False              False                      True   \n",
       "16258                False              False                      True   \n",
       "16259                False              False                      True   \n",
       "\n",
       "       FLM Comment  Confirmed Owner  Correlation TT No.  Start\\n(Date/Time)  \\\n",
       "0             True            False               False               False   \n",
       "1             True            False               False               False   \n",
       "2             True            False               False               False   \n",
       "3             True            False               False               False   \n",
       "4             True            False               False               False   \n",
       "...            ...              ...                 ...                 ...   \n",
       "16255         True            False               False               False   \n",
       "16256         True            False               False               False   \n",
       "16257         True            False               False               False   \n",
       "16258         True            False               False               False   \n",
       "16259         True            False               False               False   \n",
       "\n",
       "       End\\n(Date/Time)  Duration  Owner  \n",
       "0                  True      True  False  \n",
       "1                  True      True  False  \n",
       "2                  True      True  False  \n",
       "3                  True      True  False  \n",
       "4                  True      True  False  \n",
       "...                 ...       ...    ...  \n",
       "16255              True      True  False  \n",
       "16256             False     False  False  \n",
       "16257              True      True  False  \n",
       "16258              True      True  False  \n",
       "16259             False     False  False  \n",
       "\n",
       "[16260 rows x 46 columns]"
      ]
     },
     "execution_count": 4,
     "metadata": {},
     "output_type": "execute_result"
    }
   ],
   "source": [
    "# checking for null values\n",
    "df.isna()"
   ]
  },
  {
   "cell_type": "markdown",
   "metadata": {},
   "source": [
    "#### above we notice that every row contains atleast one null value"
   ]
  },
  {
   "cell_type": "code",
   "execution_count": 5,
   "metadata": {},
   "outputs": [
    {
     "data": {
      "text/plain": [
       "Index(['#', 'Hub Site ID', 'Region', 'Area', 'Connectivity', 'Site Type',\n",
       "       'Power configuration', 'Battery status',\n",
       "       'Exact Number of Physical Impacted Sites ', 'All Impacted Couts',\n",
       "       'Unnamed: 10', 'Unnamed: 11', 'Unnamed: 12', 'Power Alarms Date',\n",
       "       'Power Alarms Time', 'Outage Start Date', 'Outage Start Time',\n",
       "       'Outage End Date ', 'Outage End Time', 'Outage Duration',\n",
       "       'Hub Site Sharing Date', 'Hub Site Sharing Time',\n",
       "       'Time between Alarm and Outage',\n",
       "       'Actual E&M Duration\\nOutage End - Hub Sharing Time', 'Fault Type',\n",
       "       'Problem Description', 'Action Taken', 'Remarks', 'TT Number',\n",
       "       'Severity', 'Subcon', 'System', 'TT Status', 'Dispatching Date',\n",
       "       'Dispatching Time', 'Unnamed: 35', 'Mobily FLM Feedback',\n",
       "       'ACES FLM Feedback', 'Confirmed\\nACES Duration', 'FLM Comment',\n",
       "       'Confirmed Owner', 'Correlation TT No.', 'Start\\n(Date/Time)',\n",
       "       'End\\n(Date/Time)', 'Duration', 'Owner'],\n",
       "      dtype='object')"
      ]
     },
     "execution_count": 5,
     "metadata": {},
     "output_type": "execute_result"
    }
   ],
   "source": [
    "df.columns"
   ]
  },
  {
   "cell_type": "code",
   "execution_count": 6,
   "metadata": {},
   "outputs": [
    {
     "name": "stdout",
     "output_type": "stream",
     "text": [
      "<class 'pandas.core.frame.DataFrame'>\n",
      "RangeIndex: 16260 entries, 0 to 16259\n",
      "Data columns (total 46 columns):\n",
      " #   Column                                             Non-Null Count  Dtype         \n",
      "---  ------                                             --------------  -----         \n",
      " 0   #                                                  16260 non-null  int64         \n",
      " 1   Hub Site ID                                        16260 non-null  object        \n",
      " 2   Region                                             16260 non-null  object        \n",
      " 3   Area                                               16242 non-null  object        \n",
      " 4   Connectivity                                       16177 non-null  object        \n",
      " 5   Site Type                                          16220 non-null  object        \n",
      " 6   Power configuration                                16254 non-null  object        \n",
      " 7   Battery status                                     16215 non-null  object        \n",
      " 8   Exact Number of Physical Impacted Sites            16260 non-null  int64         \n",
      " 9   All Impacted Couts                                 16260 non-null  object        \n",
      " 10  Unnamed: 10                                        14774 non-null  object        \n",
      " 11  Unnamed: 11                                        15270 non-null  object        \n",
      " 12  Unnamed: 12                                        15767 non-null  object        \n",
      " 13  Power Alarms Date                                  16260 non-null  object        \n",
      " 14  Power Alarms Time                                  16260 non-null  object        \n",
      " 15  Outage Start Date                                  16260 non-null  datetime64[ns]\n",
      " 16  Outage Start Time                                  16260 non-null  object        \n",
      " 17  Outage End Date                                    16160 non-null  datetime64[ns]\n",
      " 18  Outage End Time                                    16160 non-null  object        \n",
      " 19  Outage Duration                                    16160 non-null  object        \n",
      " 20  Hub Site Sharing Date                              16260 non-null  datetime64[ns]\n",
      " 21  Hub Site Sharing Time                              16260 non-null  object        \n",
      " 22  Time between Alarm and Outage                      16260 non-null  object        \n",
      " 23  Actual E&M Duration\n",
      "Outage End - Hub Sharing Time  16160 non-null  object        \n",
      " 24  Fault Type                                         16260 non-null  object        \n",
      " 25  Problem Description                                16260 non-null  object        \n",
      " 26  Action Taken                                       16228 non-null  object        \n",
      " 27  Remarks                                            4941 non-null   object        \n",
      " 28  TT Number                                          16260 non-null  object        \n",
      " 29  Severity                                           16260 non-null  object        \n",
      " 30  Subcon                                             402 non-null    object        \n",
      " 31  System                                             16256 non-null  object        \n",
      " 32  TT Status                                          16260 non-null  object        \n",
      " 33  Dispatching Date                                   16260 non-null  datetime64[ns]\n",
      " 34  Dispatching Time                                   16260 non-null  object        \n",
      " 35  Unnamed: 35                                        16166 non-null  object        \n",
      " 36  Mobily FLM Feedback                                5312 non-null   object        \n",
      " 37  ACES FLM Feedback                                  16260 non-null  object        \n",
      " 38  Confirmed\n",
      "ACES Duration                            0 non-null      float64       \n",
      " 39  FLM Comment                                        0 non-null      float64       \n",
      " 40  Confirmed Owner                                    16260 non-null  object        \n",
      " 41  Correlation TT No.                                 16260 non-null  object        \n",
      " 42  Start\n",
      "(Date/Time)                                  16260 non-null  datetime64[ns]\n",
      " 43  End\n",
      "(Date/Time)                                    16160 non-null  datetime64[ns]\n",
      " 44  Duration                                           16160 non-null  object        \n",
      " 45  Owner                                              16260 non-null  object        \n",
      "dtypes: datetime64[ns](6), float64(2), int64(2), object(36)\n",
      "memory usage: 5.7+ MB\n"
     ]
    }
   ],
   "source": [
    "df.info()"
   ]
  },
  {
   "cell_type": "code",
   "execution_count": 7,
   "metadata": {},
   "outputs": [
    {
     "data": {
      "text/html": [
       "<div>\n",
       "<style scoped>\n",
       "    .dataframe tbody tr th:only-of-type {\n",
       "        vertical-align: middle;\n",
       "    }\n",
       "\n",
       "    .dataframe tbody tr th {\n",
       "        vertical-align: top;\n",
       "    }\n",
       "\n",
       "    .dataframe thead th {\n",
       "        text-align: right;\n",
       "    }\n",
       "</style>\n",
       "<table border=\"1\" class=\"dataframe\">\n",
       "  <thead>\n",
       "    <tr style=\"text-align: right;\">\n",
       "      <th></th>\n",
       "      <th>#</th>\n",
       "      <th>Hub Site ID</th>\n",
       "      <th>Region</th>\n",
       "      <th>Area</th>\n",
       "      <th>Connectivity</th>\n",
       "      <th>Site Type</th>\n",
       "      <th>Power configuration</th>\n",
       "      <th>Battery status</th>\n",
       "      <th>Exact Number of Physical Impacted Sites</th>\n",
       "      <th>All Impacted Couts</th>\n",
       "      <th>...</th>\n",
       "      <th>Mobily FLM Feedback</th>\n",
       "      <th>ACES FLM Feedback</th>\n",
       "      <th>Confirmed\\nACES Duration</th>\n",
       "      <th>FLM Comment</th>\n",
       "      <th>Confirmed Owner</th>\n",
       "      <th>Correlation TT No.</th>\n",
       "      <th>Start\\n(Date/Time)</th>\n",
       "      <th>End\\n(Date/Time)</th>\n",
       "      <th>Duration</th>\n",
       "      <th>Owner</th>\n",
       "    </tr>\n",
       "  </thead>\n",
       "  <tbody>\n",
       "    <tr>\n",
       "      <th>0</th>\n",
       "      <td>1</td>\n",
       "      <td>E5511</td>\n",
       "      <td>ER</td>\n",
       "      <td>Hafr Elbaten</td>\n",
       "      <td>MW</td>\n",
       "      <td>GF</td>\n",
       "      <td>SEC</td>\n",
       "      <td>Available-Dead</td>\n",
       "      <td>1</td>\n",
       "      <td>1x2G 1x3G 1x4G 0x5G</td>\n",
       "      <td>...</td>\n",
       "      <td>NaN</td>\n",
       "      <td>Bill-Payment-Admin</td>\n",
       "      <td>NaN</td>\n",
       "      <td>NaN</td>\n",
       "      <td>Admin</td>\n",
       "      <td>TT0000000500447639</td>\n",
       "      <td>2022-03-01 16:24:00</td>\n",
       "      <td>NaT</td>\n",
       "      <td>NaN</td>\n",
       "      <td>Admin-Payment-Bill</td>\n",
       "    </tr>\n",
       "    <tr>\n",
       "      <th>1</th>\n",
       "      <td>2</td>\n",
       "      <td>W3803</td>\n",
       "      <td>WR</td>\n",
       "      <td>JEDDAH</td>\n",
       "      <td>MW</td>\n",
       "      <td>RT</td>\n",
       "      <td>SEC</td>\n",
       "      <td>Available-Weak</td>\n",
       "      <td>1</td>\n",
       "      <td>1x2G 1x3G 1x4G 1x5G</td>\n",
       "      <td>...</td>\n",
       "      <td>NaN</td>\n",
       "      <td>Contract Issue-Contract-Admin</td>\n",
       "      <td>NaN</td>\n",
       "      <td>NaN</td>\n",
       "      <td>Admin</td>\n",
       "      <td>INC000070725304</td>\n",
       "      <td>2022-03-05 17:05:00</td>\n",
       "      <td>NaT</td>\n",
       "      <td>NaN</td>\n",
       "      <td>Admin-Contract-Contract Issue</td>\n",
       "    </tr>\n",
       "    <tr>\n",
       "      <th>2</th>\n",
       "      <td>3</td>\n",
       "      <td>C5546</td>\n",
       "      <td>CR</td>\n",
       "      <td>Ad Diriyah</td>\n",
       "      <td>MW</td>\n",
       "      <td>RDU Mini-Shelter</td>\n",
       "      <td>SG</td>\n",
       "      <td>Available-Good</td>\n",
       "      <td>1</td>\n",
       "      <td>1x2G 1x3G 1x4G 1x5G</td>\n",
       "      <td>...</td>\n",
       "      <td>NaN</td>\n",
       "      <td>Contract Issue-Contract-Admin</td>\n",
       "      <td>NaN</td>\n",
       "      <td>NaN</td>\n",
       "      <td>Admin</td>\n",
       "      <td>TT0000000500499495</td>\n",
       "      <td>2022-08-30 17:35:00</td>\n",
       "      <td>NaT</td>\n",
       "      <td>NaN</td>\n",
       "      <td>Admin-Access-Letter</td>\n",
       "    </tr>\n",
       "    <tr>\n",
       "      <th>3</th>\n",
       "      <td>4</td>\n",
       "      <td>S1556</td>\n",
       "      <td>SR</td>\n",
       "      <td>Abha</td>\n",
       "      <td>MW</td>\n",
       "      <td>ODC-GF</td>\n",
       "      <td>SG</td>\n",
       "      <td>Available-Good</td>\n",
       "      <td>1</td>\n",
       "      <td>0x2G 1x3G 1x4G 0x5G</td>\n",
       "      <td>...</td>\n",
       "      <td>GOOD</td>\n",
       "      <td>Restricted(ACES)-Access-MNS-ACES</td>\n",
       "      <td>NaN</td>\n",
       "      <td>NaN</td>\n",
       "      <td>Project E&amp;M</td>\n",
       "      <td>TT-20220913-00002780</td>\n",
       "      <td>2022-09-13 16:43:00</td>\n",
       "      <td>NaT</td>\n",
       "      <td>NaN</td>\n",
       "      <td>Project E&amp;M</td>\n",
       "    </tr>\n",
       "    <tr>\n",
       "      <th>4</th>\n",
       "      <td>5</td>\n",
       "      <td>S1632</td>\n",
       "      <td>SR</td>\n",
       "      <td>Abha</td>\n",
       "      <td>MW</td>\n",
       "      <td>GF</td>\n",
       "      <td>SG</td>\n",
       "      <td>Available-Dead</td>\n",
       "      <td>1</td>\n",
       "      <td>1x2G 1x3G 1x4G 0x5G</td>\n",
       "      <td>...</td>\n",
       "      <td>NaN</td>\n",
       "      <td>Restricted(ACES)-Access-MNS-ACES</td>\n",
       "      <td>NaN</td>\n",
       "      <td>NaN</td>\n",
       "      <td>Project E&amp;M</td>\n",
       "      <td>TT-20220916-00001841</td>\n",
       "      <td>2022-09-16 13:56:00</td>\n",
       "      <td>NaT</td>\n",
       "      <td>NaN</td>\n",
       "      <td>Project E&amp;M</td>\n",
       "    </tr>\n",
       "    <tr>\n",
       "      <th>5</th>\n",
       "      <td>6</td>\n",
       "      <td>N4117</td>\n",
       "      <td>NR</td>\n",
       "      <td>Al Madinah Al Munawwarah</td>\n",
       "      <td>FON-(CO- Jazera building)</td>\n",
       "      <td>ODC-RT</td>\n",
       "      <td>SEC</td>\n",
       "      <td>Available-Good</td>\n",
       "      <td>1</td>\n",
       "      <td>1x2G 1x3G 1x4G 1x5G</td>\n",
       "      <td>...</td>\n",
       "      <td>GOOD</td>\n",
       "      <td>Bill-Payment-Admin</td>\n",
       "      <td>NaN</td>\n",
       "      <td>NaN</td>\n",
       "      <td>Admin</td>\n",
       "      <td>TT-20220920-00002520</td>\n",
       "      <td>2022-09-20 11:55:00</td>\n",
       "      <td>NaT</td>\n",
       "      <td>NaN</td>\n",
       "      <td>Admin-Contract-Contract Issue</td>\n",
       "    </tr>\n",
       "    <tr>\n",
       "      <th>6</th>\n",
       "      <td>7</td>\n",
       "      <td>W2335</td>\n",
       "      <td>WR</td>\n",
       "      <td>Jiddah</td>\n",
       "      <td>FON</td>\n",
       "      <td>RT</td>\n",
       "      <td>SEC</td>\n",
       "      <td>Available-Good</td>\n",
       "      <td>1</td>\n",
       "      <td>1x2G 1x3G 1x4G 0x5G</td>\n",
       "      <td>...</td>\n",
       "      <td>NaN</td>\n",
       "      <td>Contract Issue-Contract-Admin</td>\n",
       "      <td>NaN</td>\n",
       "      <td>NaN</td>\n",
       "      <td>Admin</td>\n",
       "      <td>INC000075319063</td>\n",
       "      <td>2022-11-06 15:45:00</td>\n",
       "      <td>2023-05-31 15:40:00</td>\n",
       "      <td>1900-07-23 23:55:00</td>\n",
       "      <td>Admin-Contract-Contract Issue</td>\n",
       "    </tr>\n",
       "    <tr>\n",
       "      <th>7</th>\n",
       "      <td>8</td>\n",
       "      <td>N3887</td>\n",
       "      <td>NR</td>\n",
       "      <td>Al Madinah Al Munawwarah</td>\n",
       "      <td>MW</td>\n",
       "      <td>Microcell</td>\n",
       "      <td>SEC</td>\n",
       "      <td>No BB (Design)</td>\n",
       "      <td>1</td>\n",
       "      <td>1x2G 0x3G 0x4G 0x5G 0xBC</td>\n",
       "      <td>...</td>\n",
       "      <td>NaN</td>\n",
       "      <td>Restricted(ACES)-Access-MNS-ACES</td>\n",
       "      <td>NaN</td>\n",
       "      <td>NaN</td>\n",
       "      <td>Admin</td>\n",
       "      <td>TT-20221120-00005492</td>\n",
       "      <td>2022-11-20 18:03:00</td>\n",
       "      <td>NaT</td>\n",
       "      <td>NaN</td>\n",
       "      <td>Admin-Contract-Contract Issue</td>\n",
       "    </tr>\n",
       "    <tr>\n",
       "      <th>8</th>\n",
       "      <td>9</td>\n",
       "      <td>N3708</td>\n",
       "      <td>NR</td>\n",
       "      <td>Al Madinah Al Munawwarah</td>\n",
       "      <td>MW</td>\n",
       "      <td>Microcell</td>\n",
       "      <td>SEC</td>\n",
       "      <td>No BB (Design)</td>\n",
       "      <td>1</td>\n",
       "      <td>1x2G 0x3G 1x4G 0x5G 0xBC</td>\n",
       "      <td>...</td>\n",
       "      <td>NaN</td>\n",
       "      <td>Restricted(ACES)-Access-MNS-ACES</td>\n",
       "      <td>NaN</td>\n",
       "      <td>NaN</td>\n",
       "      <td>Admin</td>\n",
       "      <td>TT-20221120-00005433</td>\n",
       "      <td>2022-11-20 18:04:00</td>\n",
       "      <td>NaT</td>\n",
       "      <td>NaN</td>\n",
       "      <td>Admin-Contract-Contract Issue</td>\n",
       "    </tr>\n",
       "    <tr>\n",
       "      <th>9</th>\n",
       "      <td>10</td>\n",
       "      <td>C1303</td>\n",
       "      <td>CR</td>\n",
       "      <td>Ar Riyad</td>\n",
       "      <td>FON</td>\n",
       "      <td>ODC-RT</td>\n",
       "      <td>SEC</td>\n",
       "      <td>Available-Dead</td>\n",
       "      <td>1</td>\n",
       "      <td>0x2G 1x3G 1x4G 0x5G 0xBC</td>\n",
       "      <td>...</td>\n",
       "      <td>NaN</td>\n",
       "      <td>Contract Issue-Contract-Admin</td>\n",
       "      <td>NaN</td>\n",
       "      <td>NaN</td>\n",
       "      <td>Admin</td>\n",
       "      <td>TT20221122500521458</td>\n",
       "      <td>2022-11-22 14:51:00</td>\n",
       "      <td>NaT</td>\n",
       "      <td>NaN</td>\n",
       "      <td>Admin-Contract-Contract Issue</td>\n",
       "    </tr>\n",
       "    <tr>\n",
       "      <th>10</th>\n",
       "      <td>11</td>\n",
       "      <td>C1334</td>\n",
       "      <td>CR</td>\n",
       "      <td>Ar Riyad</td>\n",
       "      <td>MW</td>\n",
       "      <td>RT</td>\n",
       "      <td>SEC</td>\n",
       "      <td>Available-Good</td>\n",
       "      <td>1</td>\n",
       "      <td>1x2G 1x3G 1x4G 1x5G 0xBC</td>\n",
       "      <td>...</td>\n",
       "      <td>NaN</td>\n",
       "      <td>Contract Issue-Contract-Admin</td>\n",
       "      <td>NaN</td>\n",
       "      <td>NaN</td>\n",
       "      <td>Admin</td>\n",
       "      <td>TT20221210500527200</td>\n",
       "      <td>2022-12-10 18:29:00</td>\n",
       "      <td>NaT</td>\n",
       "      <td>NaN</td>\n",
       "      <td>Admin-Payment-Bill</td>\n",
       "    </tr>\n",
       "    <tr>\n",
       "      <th>11</th>\n",
       "      <td>12</td>\n",
       "      <td>W5956</td>\n",
       "      <td>WR</td>\n",
       "      <td>Makkah Al Mukarramah</td>\n",
       "      <td>MW</td>\n",
       "      <td>Microcell</td>\n",
       "      <td>SEC</td>\n",
       "      <td>No BB (Design)</td>\n",
       "      <td>1</td>\n",
       "      <td>1x2G 1x3G 1x4G 0x5G 0xBC</td>\n",
       "      <td>...</td>\n",
       "      <td>NaN</td>\n",
       "      <td>Owner Issues-Access-Admin</td>\n",
       "      <td>NaN</td>\n",
       "      <td>NaN</td>\n",
       "      <td>Project E&amp;M</td>\n",
       "      <td>INC000077070071</td>\n",
       "      <td>2022-12-23 12:57:00</td>\n",
       "      <td>NaT</td>\n",
       "      <td>NaN</td>\n",
       "      <td>Project E&amp;M</td>\n",
       "    </tr>\n",
       "    <tr>\n",
       "      <th>12</th>\n",
       "      <td>13</td>\n",
       "      <td>E6450</td>\n",
       "      <td>ER</td>\n",
       "      <td>NaN</td>\n",
       "      <td>MW</td>\n",
       "      <td>NaN</td>\n",
       "      <td>NaN</td>\n",
       "      <td>Available-Good</td>\n",
       "      <td>1</td>\n",
       "      <td>0x2G 1x3G 1x4G 0x5G 0xBC</td>\n",
       "      <td>...</td>\n",
       "      <td>NaN</td>\n",
       "      <td>Telecom (Other Vendor)</td>\n",
       "      <td>NaN</td>\n",
       "      <td>NaN</td>\n",
       "      <td>Project-RAN-Power</td>\n",
       "      <td>TT-20221231-00000283</td>\n",
       "      <td>2022-12-31 03:59:00</td>\n",
       "      <td>2023-05-03 20:35:00</td>\n",
       "      <td>1900-05-02 16:36:00</td>\n",
       "      <td>Project-E&amp;M-Power</td>\n",
       "    </tr>\n",
       "    <tr>\n",
       "      <th>13</th>\n",
       "      <td>14</td>\n",
       "      <td>C1809</td>\n",
       "      <td>CR</td>\n",
       "      <td>Al Muzahimiyah</td>\n",
       "      <td>MW</td>\n",
       "      <td>RDU</td>\n",
       "      <td>SG</td>\n",
       "      <td>Available-Dead</td>\n",
       "      <td>1</td>\n",
       "      <td>1x2G 1x3G 1x4G 0x5G 0xBC</td>\n",
       "      <td>...</td>\n",
       "      <td>NaN</td>\n",
       "      <td>Contract Issue-Contract-Admin</td>\n",
       "      <td>NaN</td>\n",
       "      <td>NaN</td>\n",
       "      <td>Admin</td>\n",
       "      <td>TT-20230127-00001205</td>\n",
       "      <td>2023-01-27 12:59:00</td>\n",
       "      <td>2023-05-04 14:40:00</td>\n",
       "      <td>1900-04-06 01:41:00</td>\n",
       "      <td>Admin-Contract-Contract Issue</td>\n",
       "    </tr>\n",
       "    <tr>\n",
       "      <th>14</th>\n",
       "      <td>15</td>\n",
       "      <td>C1161</td>\n",
       "      <td>CR</td>\n",
       "      <td>Ar Riyad</td>\n",
       "      <td>MW</td>\n",
       "      <td>RT</td>\n",
       "      <td>SEC</td>\n",
       "      <td>Available-Good</td>\n",
       "      <td>1</td>\n",
       "      <td>1x2G 1x3G 1x4G 1x5G 0xBC</td>\n",
       "      <td>...</td>\n",
       "      <td>NaN</td>\n",
       "      <td>Contract Issue-Contract-Admin</td>\n",
       "      <td>NaN</td>\n",
       "      <td>NaN</td>\n",
       "      <td>Admin</td>\n",
       "      <td>TT20230208500546074</td>\n",
       "      <td>2023-02-08 21:18:00</td>\n",
       "      <td>2023-05-01 21:40:00</td>\n",
       "      <td>1900-03-22 00:22:00</td>\n",
       "      <td>Admin-Contract-Contract Issue</td>\n",
       "    </tr>\n",
       "  </tbody>\n",
       "</table>\n",
       "<p>15 rows × 46 columns</p>\n",
       "</div>"
      ],
      "text/plain": [
       "     # Hub Site ID Region                      Area  \\\n",
       "0    1       E5511     ER              Hafr Elbaten   \n",
       "1    2       W3803     WR                    JEDDAH   \n",
       "2    3       C5546     CR                Ad Diriyah   \n",
       "3    4       S1556     SR                      Abha   \n",
       "4    5       S1632     SR                      Abha   \n",
       "5    6       N4117     NR  Al Madinah Al Munawwarah   \n",
       "6    7       W2335     WR                    Jiddah   \n",
       "7    8       N3887     NR  Al Madinah Al Munawwarah   \n",
       "8    9       N3708     NR  Al Madinah Al Munawwarah   \n",
       "9   10       C1303     CR                  Ar Riyad   \n",
       "10  11       C1334     CR                  Ar Riyad   \n",
       "11  12       W5956     WR      Makkah Al Mukarramah   \n",
       "12  13       E6450     ER                       NaN   \n",
       "13  14       C1809     CR            Al Muzahimiyah   \n",
       "14  15       C1161     CR                  Ar Riyad   \n",
       "\n",
       "                 Connectivity         Site Type Power configuration  \\\n",
       "0                          MW                GF                 SEC   \n",
       "1                          MW                RT                 SEC   \n",
       "2                          MW  RDU Mini-Shelter                  SG   \n",
       "3                          MW            ODC-GF                  SG   \n",
       "4                          MW                GF                  SG   \n",
       "5   FON-(CO- Jazera building)            ODC-RT                 SEC   \n",
       "6                         FON                RT                 SEC   \n",
       "7                          MW         Microcell                 SEC   \n",
       "8                          MW         Microcell                 SEC   \n",
       "9                         FON            ODC-RT                 SEC   \n",
       "10                         MW                RT                 SEC   \n",
       "11                         MW         Microcell                 SEC   \n",
       "12                         MW               NaN                 NaN   \n",
       "13                         MW               RDU                  SG   \n",
       "14                         MW                RT                 SEC   \n",
       "\n",
       "    Battery status  Exact Number of Physical Impacted Sites   \\\n",
       "0   Available-Dead                                         1   \n",
       "1   Available-Weak                                         1   \n",
       "2   Available-Good                                         1   \n",
       "3   Available-Good                                         1   \n",
       "4   Available-Dead                                         1   \n",
       "5   Available-Good                                         1   \n",
       "6   Available-Good                                         1   \n",
       "7   No BB (Design)                                         1   \n",
       "8   No BB (Design)                                         1   \n",
       "9   Available-Dead                                         1   \n",
       "10  Available-Good                                         1   \n",
       "11  No BB (Design)                                         1   \n",
       "12  Available-Good                                         1   \n",
       "13  Available-Dead                                         1   \n",
       "14  Available-Good                                         1   \n",
       "\n",
       "          All Impacted Couts  ... Mobily FLM Feedback  \\\n",
       "0        1x2G 1x3G 1x4G 0x5G  ...                 NaN   \n",
       "1        1x2G 1x3G 1x4G 1x5G  ...                 NaN   \n",
       "2        1x2G 1x3G 1x4G 1x5G  ...                 NaN   \n",
       "3        0x2G 1x3G 1x4G 0x5G  ...                GOOD   \n",
       "4        1x2G 1x3G 1x4G 0x5G  ...                 NaN   \n",
       "5        1x2G 1x3G 1x4G 1x5G  ...                GOOD   \n",
       "6        1x2G 1x3G 1x4G 0x5G  ...                 NaN   \n",
       "7   1x2G 0x3G 0x4G 0x5G 0xBC  ...                 NaN   \n",
       "8   1x2G 0x3G 1x4G 0x5G 0xBC  ...                 NaN   \n",
       "9   0x2G 1x3G 1x4G 0x5G 0xBC  ...                 NaN   \n",
       "10  1x2G 1x3G 1x4G 1x5G 0xBC  ...                 NaN   \n",
       "11  1x2G 1x3G 1x4G 0x5G 0xBC  ...                 NaN   \n",
       "12  0x2G 1x3G 1x4G 0x5G 0xBC  ...                 NaN   \n",
       "13  1x2G 1x3G 1x4G 0x5G 0xBC  ...                 NaN   \n",
       "14  1x2G 1x3G 1x4G 1x5G 0xBC  ...                 NaN   \n",
       "\n",
       "                   ACES FLM Feedback Confirmed\\nACES Duration FLM Comment  \\\n",
       "0                 Bill-Payment-Admin                      NaN         NaN   \n",
       "1      Contract Issue-Contract-Admin                      NaN         NaN   \n",
       "2      Contract Issue-Contract-Admin                      NaN         NaN   \n",
       "3   Restricted(ACES)-Access-MNS-ACES                      NaN         NaN   \n",
       "4   Restricted(ACES)-Access-MNS-ACES                      NaN         NaN   \n",
       "5                 Bill-Payment-Admin                      NaN         NaN   \n",
       "6      Contract Issue-Contract-Admin                      NaN         NaN   \n",
       "7   Restricted(ACES)-Access-MNS-ACES                      NaN         NaN   \n",
       "8   Restricted(ACES)-Access-MNS-ACES                      NaN         NaN   \n",
       "9      Contract Issue-Contract-Admin                      NaN         NaN   \n",
       "10     Contract Issue-Contract-Admin                      NaN         NaN   \n",
       "11         Owner Issues-Access-Admin                      NaN         NaN   \n",
       "12            Telecom (Other Vendor)                      NaN         NaN   \n",
       "13     Contract Issue-Contract-Admin                      NaN         NaN   \n",
       "14     Contract Issue-Contract-Admin                      NaN         NaN   \n",
       "\n",
       "      Confirmed Owner    Correlation TT No.  Start\\n(Date/Time)  \\\n",
       "0               Admin    TT0000000500447639 2022-03-01 16:24:00   \n",
       "1               Admin       INC000070725304 2022-03-05 17:05:00   \n",
       "2               Admin    TT0000000500499495 2022-08-30 17:35:00   \n",
       "3         Project E&M  TT-20220913-00002780 2022-09-13 16:43:00   \n",
       "4         Project E&M  TT-20220916-00001841 2022-09-16 13:56:00   \n",
       "5               Admin  TT-20220920-00002520 2022-09-20 11:55:00   \n",
       "6               Admin       INC000075319063 2022-11-06 15:45:00   \n",
       "7               Admin  TT-20221120-00005492 2022-11-20 18:03:00   \n",
       "8               Admin  TT-20221120-00005433 2022-11-20 18:04:00   \n",
       "9               Admin   TT20221122500521458 2022-11-22 14:51:00   \n",
       "10              Admin   TT20221210500527200 2022-12-10 18:29:00   \n",
       "11        Project E&M       INC000077070071 2022-12-23 12:57:00   \n",
       "12  Project-RAN-Power  TT-20221231-00000283 2022-12-31 03:59:00   \n",
       "13              Admin  TT-20230127-00001205 2023-01-27 12:59:00   \n",
       "14              Admin   TT20230208500546074 2023-02-08 21:18:00   \n",
       "\n",
       "      End\\n(Date/Time)             Duration                          Owner  \n",
       "0                  NaT                  NaN             Admin-Payment-Bill  \n",
       "1                  NaT                  NaN  Admin-Contract-Contract Issue  \n",
       "2                  NaT                  NaN            Admin-Access-Letter  \n",
       "3                  NaT                  NaN                    Project E&M  \n",
       "4                  NaT                  NaN                    Project E&M  \n",
       "5                  NaT                  NaN  Admin-Contract-Contract Issue  \n",
       "6  2023-05-31 15:40:00  1900-07-23 23:55:00  Admin-Contract-Contract Issue  \n",
       "7                  NaT                  NaN  Admin-Contract-Contract Issue  \n",
       "8                  NaT                  NaN  Admin-Contract-Contract Issue  \n",
       "9                  NaT                  NaN  Admin-Contract-Contract Issue  \n",
       "10                 NaT                  NaN             Admin-Payment-Bill  \n",
       "11                 NaT                  NaN                    Project E&M  \n",
       "12 2023-05-03 20:35:00  1900-05-02 16:36:00              Project-E&M-Power  \n",
       "13 2023-05-04 14:40:00  1900-04-06 01:41:00  Admin-Contract-Contract Issue  \n",
       "14 2023-05-01 21:40:00  1900-03-22 00:22:00  Admin-Contract-Contract Issue  \n",
       "\n",
       "[15 rows x 46 columns]"
      ]
     },
     "execution_count": 7,
     "metadata": {},
     "output_type": "execute_result"
    }
   ],
   "source": [
    "df.head(15)"
   ]
  },
  {
   "cell_type": "markdown",
   "metadata": {},
   "source": [
    "#### power configuration check"
   ]
  },
  {
   "cell_type": "code",
   "execution_count": 8,
   "metadata": {},
   "outputs": [
    {
     "data": {
      "text/plain": [
       "count     16254\n",
       "unique       12\n",
       "top         SEC\n",
       "freq       8612\n",
       "Name: Power configuration, dtype: object"
      ]
     },
     "execution_count": 8,
     "metadata": {},
     "output_type": "execute_result"
    }
   ],
   "source": [
    "# description of power consumption\n",
    "df['Power configuration'].describe()"
   ]
  },
  {
   "cell_type": "code",
   "execution_count": 9,
   "metadata": {},
   "outputs": [
    {
     "data": {
      "text/plain": [
       "13"
      ]
     },
     "execution_count": 9,
     "metadata": {},
     "output_type": "execute_result"
    }
   ],
   "source": [
    "df['Power configuration'].unique().__len__()"
   ]
  },
  {
   "cell_type": "code",
   "execution_count": 10,
   "metadata": {},
   "outputs": [
    {
     "data": {
      "text/plain": [
       "SEC            8612\n",
       "SG             4922\n",
       "PC             1156\n",
       "SB              689\n",
       "TG              483\n",
       "RG              245\n",
       "DG               82\n",
       "Share Gen        46\n",
       "New Site         12\n",
       "Pico Cell         3\n",
       "IBS Site          2\n",
       "Under Tawal       2\n",
       "Name: Power configuration, dtype: int64"
      ]
     },
     "execution_count": 10,
     "metadata": {},
     "output_type": "execute_result"
    }
   ],
   "source": [
    "df['Power configuration'].value_counts()"
   ]
  },
  {
   "cell_type": "code",
   "execution_count": 11,
   "metadata": {},
   "outputs": [],
   "source": [
    "import matplotlib.pyplot as plt"
   ]
  },
  {
   "cell_type": "code",
   "execution_count": 12,
   "metadata": {},
   "outputs": [],
   "source": [
    "# function to add value labels\n",
    "def addlabels(x,y):\n",
    "    for i in range(len(x)):\n",
    "        plt.text(i, y[i], y[i], ha = 'center')\n",
    " "
   ]
  },
  {
   "cell_type": "code",
   "execution_count": 13,
   "metadata": {},
   "outputs": [
    {
     "data": {
      "image/png": "[encoded data removed]",
      "text/plain": [
       "<Figure size 640x480 with 1 Axes>"
      ]
     },
     "metadata": {},
     "output_type": "display_data"
    }
   ],
   "source": [
    "dict_data = df['Power configuration'].value_counts().to_dict()\n",
    "df['Power configuration'].value_counts().plot(kind='bar', title='Counts of Power configuration')\n",
    " # calling the function to add value labels\n",
    "plt.xlabel('Power configuration')\n",
    "plt.ylabel('Value counts')\n",
    "\n",
    "x =tuple(dict_data.keys())\n",
    "y = tuple(dict_data.values()) \n",
    "# print(x)\n",
    "addlabels(x,y)"
   ]
  },
  {
   "cell_type": "code",
   "execution_count": 14,
   "metadata": {},
   "outputs": [
    {
     "data": {
      "text/plain": [
       "count        16242\n",
       "unique         157\n",
       "top       Ar Riyad\n",
       "freq          1820\n",
       "Name: Area, dtype: object"
      ]
     },
     "execution_count": 14,
     "metadata": {},
     "output_type": "execute_result"
    }
   ],
   "source": [
    "df['Area'].describe()"
   ]
  },
  {
   "cell_type": "code",
   "execution_count": 15,
   "metadata": {},
   "outputs": [
    {
     "name": "stdout",
     "output_type": "stream",
     "text": [
      "dict_values([1820, 1367, 828, 508, 508, 487, 458, 415, 349, 347, 346, 342, 340, 251, 228, 219, 207, 188, 178, 173, 172, 167, 158, 145, 136, 131, 130, 128, 123, 122, 118, 111, 110, 109, 107, 104, 104, 101, 100, 94, 92, 91, 91, 90, 89, 88, 87, 87, 84, 78, 76, 74, 74, 73, 72, 72, 70, 69, 68, 66, 61, 60, 59, 58, 57, 57, 56, 56, 56, 55, 54, 52, 52, 52, 48, 48, 48, 47, 47, 45, 45, 43, 43, 43, 41, 39, 38, 37, 37, 36, 35, 35, 33, 33, 33, 32, 32, 32, 32, 30, 29, 28, 28, 27, 27, 25, 24, 24, 24, 24, 22, 22, 22, 22, 21, 21, 20, 20, 20, 20, 20, 20, 18, 18, 18, 18, 17, 17, 17, 16, 16, 16, 14, 14, 12, 12, 12, 11, 9, 9, 8, 7, 6, 6, 5, 4, 3, 2, 2, 1, 1, 1, 1, 1, 1, 1, 1])\n"
     ]
    }
   ],
   "source": [
    "a = df['Area'].value_counts().to_dict()\n",
    "print(a.values())"
   ]
  },
  {
   "cell_type": "code",
   "execution_count": 16,
   "metadata": {},
   "outputs": [
    {
     "data": {
      "text/plain": [
       "count     16177\n",
       "unique      116\n",
       "top          MW\n",
       "freq      14505\n",
       "Name: Connectivity, dtype: object"
      ]
     },
     "execution_count": 16,
     "metadata": {},
     "output_type": "execute_result"
    }
   ],
   "source": [
    "df['Connectivity'].describe()"
   ]
  },
  {
   "cell_type": "code",
   "execution_count": 17,
   "metadata": {},
   "outputs": [
    {
     "data": {
      "text/plain": [
       "MW                         14505\n",
       "FON                          588\n",
       "FON-P0                       250\n",
       "MW-ESTRAHA                   142\n",
       "MW-P0                        132\n",
       "                           ...  \n",
       "FON-VIP-PMP(CO-MPLS)-P0        1\n",
       "FON-PMP-(CO-MPLS)-P0           1\n",
       "FON-VIP-(CO-RD04)              1\n",
       "FON-(CO-RT08)                  1\n",
       "FON-(CO-RT09)                  1\n",
       "Name: Connectivity, Length: 116, dtype: int64"
      ]
     },
     "execution_count": 17,
     "metadata": {},
     "output_type": "execute_result"
    }
   ],
   "source": [
    "df['Connectivity'].value_counts()"
   ]
  },
  {
   "cell_type": "code",
   "execution_count": 25,
   "metadata": {},
   "outputs": [
    {
     "data": {
      "text/plain": [
       "<AxesSubplot: >"
      ]
     },
     "execution_count": 25,
     "metadata": {},
     "output_type": "execute_result"
    },
    {
     "data": {
      "image/png": "[encoded data removed]",
      "text/plain": [
       "<Figure size 640x480 with 1 Axes>"
      ]
     },
     "metadata": {},
     "output_type": "display_data"
    }
   ],
   "source": [
    "df['Connectivity'].value_counts().head(30).plot(kind='bar')"
   ]
  },
  {
   "cell_type": "code",
   "execution_count": 27,
   "metadata": {},
   "outputs": [
    {
     "data": {
      "text/plain": [
       "count     16220\n",
       "unique       24\n",
       "top          GF\n",
       "freq      14169\n",
       "Name: Site Type, dtype: object"
      ]
     },
     "execution_count": 27,
     "metadata": {},
     "output_type": "execute_result"
    }
   ],
   "source": [
    "df['Site Type'].describe()"
   ]
  },
  {
   "cell_type": "code",
   "execution_count": 28,
   "metadata": {},
   "outputs": [
    {
     "data": {
      "text/plain": [
       "GF                        14169\n",
       "RT                         1857\n",
       "IBS                          90\n",
       "IBS-Active-Third Party       20\n",
       "RDU                          15\n",
       "Microcell                    14\n",
       "GF ODU                        9\n",
       "ODC-RT                        7\n",
       "ODC-GF                        7\n",
       "RDU Minishelter               7\n",
       "GF-ODC                        6\n",
       "Pico Cell                     3\n",
       "RT-ODC                        2\n",
       "GF Tower                      2\n",
       "RT Minishelter                2\n",
       "IBS-Active-STC                2\n",
       "IBS-Active-Mobily             1\n",
       "GF (Tawal Sharing)            1\n",
       "Tower                         1\n",
       "IBS-Passive-Mobily            1\n",
       "IBS-Passive-STC               1\n",
       "RDU Mini-Shelter              1\n",
       "Indoor                        1\n",
       "RT (Tawal Sharing)            1\n",
       "Name: Site Type, dtype: int64"
      ]
     },
     "execution_count": 28,
     "metadata": {},
     "output_type": "execute_result"
    }
   ],
   "source": [
    "df['Site Type'].value_counts()"
   ]
  },
  {
   "cell_type": "code",
   "execution_count": 29,
   "metadata": {},
   "outputs": [
    {
     "data": {
      "text/plain": [
       "<AxesSubplot: >"
      ]
     },
     "execution_count": 29,
     "metadata": {},
     "output_type": "execute_result"
    },
    {
     "data": {
      "image/png": "[encoded data removed]",
      "text/plain": [
       "<Figure size 640x480 with 1 Axes>"
      ]
     },
     "metadata": {},
     "output_type": "display_data"
    }
   ],
   "source": [
    "df['Site Type'].value_counts().plot(kind='bar')"
   ]
  },
  {
   "cell_type": "code",
   "execution_count": 30,
   "metadata": {},
   "outputs": [
    {
     "data": {
      "text/plain": [
       "count              16215\n",
       "unique                 9\n",
       "top       Available-Dead\n",
       "freq                4518\n",
       "Name: Battery status, dtype: object"
      ]
     },
     "execution_count": 30,
     "metadata": {},
     "output_type": "execute_result"
    }
   ],
   "source": [
    "df['Battery status'].describe()"
   ]
  },
  {
   "cell_type": "code",
   "execution_count": 31,
   "metadata": {},
   "outputs": [
    {
     "data": {
      "text/plain": [
       "Available-Dead          4518\n",
       "Available-Good          4389\n",
       "No BB (Stolen)          4359\n",
       "Available-Weak          2693\n",
       "No BB (Design)           242\n",
       "No BB                      5\n",
       "qurtubah+O2944:S2944       5\n",
       "Available-Temporary        3\n",
       "Available-Temporary        1\n",
       "Name: Battery status, dtype: int64"
      ]
     },
     "execution_count": 31,
     "metadata": {},
     "output_type": "execute_result"
    }
   ],
   "source": [
    "df['Battery status'].value_counts()"
   ]
  },
  {
   "cell_type": "code",
   "execution_count": 34,
   "metadata": {},
   "outputs": [
    {
     "data": {
      "text/plain": [
       "array(['ER', 'WR', 'CR', 'SR', 'NR'], dtype=object)"
      ]
     },
     "execution_count": 34,
     "metadata": {},
     "output_type": "execute_result"
    }
   ],
   "source": [
    "df['Region'].unique()"
   ]
  },
  {
   "cell_type": "code",
   "execution_count": 43,
   "metadata": {},
   "outputs": [
    {
     "data": {
      "text/plain": [
       "<AxesSubplot: title={'center': 'Counts of Battery Status in CR Region'}>"
      ]
     },
     "execution_count": 43,
     "metadata": {},
     "output_type": "execute_result"
    },
    {
     "data": {
      "image/png": "[encoded data removed]",
      "text/plain": [
       "<Figure size 640x480 with 1 Axes>"
      ]
     },
     "metadata": {},
     "output_type": "display_data"
    }
   ],
   "source": [
    "df[df['Region'] == 'CR']['Battery status'].value_counts().plot(kind='bar' , title='Counts of Battery Status in CR Region')"
   ]
  },
  {
   "cell_type": "code",
   "execution_count": 44,
   "metadata": {},
   "outputs": [
    {
     "data": {
      "text/plain": [
       "<AxesSubplot: title={'center': 'Counts of Battery Status in NR Region'}>"
      ]
     },
     "execution_count": 44,
     "metadata": {},
     "output_type": "execute_result"
    },
    {
     "data": {
      "image/png": "[encoded data removed]",
      "text/plain": [
       "<Figure size 640x480 with 1 Axes>"
      ]
     },
     "metadata": {},
     "output_type": "display_data"
    }
   ],
   "source": [
    "df[df['Region'] == 'NR']['Battery status'].value_counts().plot(kind='bar' , title='Counts of Battery Status in NR Region')\n"
   ]
  },
  {
   "cell_type": "code",
   "execution_count": 45,
   "metadata": {},
   "outputs": [
    {
     "data": {
      "text/plain": [
       "<AxesSubplot: title={'center': 'Counts of Battery Status in WR Region'}>"
      ]
     },
     "execution_count": 45,
     "metadata": {},
     "output_type": "execute_result"
    },
    {
     "data": {
      "image/png": "[encoded data removed]",
      "text/plain": [
       "<Figure size 640x480 with 1 Axes>"
      ]
     },
     "metadata": {},
     "output_type": "display_data"
    }
   ],
   "source": [
    "df[df['Region'] == 'WR']['Battery status'].value_counts().plot(kind='bar' , title='Counts of Battery Status in WR Region')\n"
   ]
  },
  {
   "cell_type": "code",
   "execution_count": 46,
   "metadata": {},
   "outputs": [
    {
     "data": {
      "text/plain": [
       "<AxesSubplot: title={'center': 'Counts of Battery Status in SR Region'}>"
      ]
     },
     "execution_count": 46,
     "metadata": {},
     "output_type": "execute_result"
    },
    {
     "data": {
      "image/png": "[encoded data removed]",
      "text/plain": [
       "<Figure size 640x480 with 1 Axes>"
      ]
     },
     "metadata": {},
     "output_type": "display_data"
    }
   ],
   "source": [
    "df[df['Region'] == 'SR']['Battery status'].value_counts().plot(kind='bar' , title='Counts of Battery Status in SR Region')\n"
   ]
  },
  {
   "cell_type": "code",
   "execution_count": 47,
   "metadata": {},
   "outputs": [
    {
     "data": {
      "text/plain": [
       "<AxesSubplot: title={'center': 'Counts of Battery Status in ER Region'}>"
      ]
     },
     "execution_count": 47,
     "metadata": {},
     "output_type": "execute_result"
    },
    {
     "data": {
      "image/png": "[encoded data removed]",
      "text/plain": [
       "<Figure size 640x480 with 1 Axes>"
      ]
     },
     "metadata": {},
     "output_type": "display_data"
    }
   ],
   "source": [
    "df[df['Region'] == 'ER']['Battery status'].value_counts().plot(kind='bar' , title='Counts of Battery Status in ER Region')\n"
   ]
  },
  {
   "cell_type": "code",
   "execution_count": 39,
   "metadata": {},
   "outputs": [
    {
     "data": {
      "text/plain": [
       "array(['Available-Good', 'No BB (Design)', 'Available-Dead',\n",
       "       'Available-Weak', 'No BB (Stolen)'], dtype=object)"
      ]
     },
     "execution_count": 39,
     "metadata": {},
     "output_type": "execute_result"
    }
   ],
   "source": [
    "df[df['Region'] == 'NR']['Battery status'].unique()"
   ]
  },
  {
   "cell_type": "code",
   "execution_count": 32,
   "metadata": {},
   "outputs": [
    {
     "data": {
      "text/plain": [
       "<AxesSubplot: >"
      ]
     },
     "execution_count": 32,
     "metadata": {},
     "output_type": "execute_result"
    },
    {
     "data": {
      "image/png": "[encoded data removed]",
      "text/plain": [
       "<Figure size 640x480 with 1 Axes>"
      ]
     },
     "metadata": {},
     "output_type": "display_data"
    }
   ],
   "source": [
    "df['Battery status'].value_counts().plot(kind='bar')"
   ]
  },
  {
   "cell_type": "code",
   "execution_count": null,
   "metadata": {},
   "outputs": [],
   "source": []
  },
  {
   "cell_type": "code",
   "execution_count": null,
   "metadata": {},
   "outputs": [],
   "source": []
  },
  {
   "cell_type": "code",
   "execution_count": null,
   "metadata": {},
   "outputs": [],
   "source": []
  },
  {
   "cell_type": "code",
   "execution_count": null,
   "metadata": {},
   "outputs": [],
   "source": []
  },
  {
   "cell_type": "code",
   "execution_count": null,
   "metadata": {},
   "outputs": [],
   "source": []
  },
  {
   "cell_type": "code",
   "execution_count": null,
   "metadata": {},
   "outputs": [],
   "source": []
  },
  {
   "cell_type": "code",
   "execution_count": null,
   "metadata": {},
   "outputs": [],
   "source": []
  },
  {
   "cell_type": "code",
   "execution_count": null,
   "metadata": {},
   "outputs": [],
   "source": []
  },
  {
   "cell_type": "code",
   "execution_count": null,
   "metadata": {},
   "outputs": [],
   "source": []
  },
  {
   "cell_type": "code",
   "execution_count": null,
   "metadata": {},
   "outputs": [],
   "source": []
  },
  {
   "cell_type": "code",
   "execution_count": null,
   "metadata": {},
   "outputs": [],
   "source": []
  },
  {
   "cell_type": "code",
   "execution_count": null,
   "metadata": {},
   "outputs": [],
   "source": []
  },
  {
   "cell_type": "code",
   "execution_count": null,
   "metadata": {},
   "outputs": [],
   "source": []
  },
  {
   "cell_type": "code",
   "execution_count": null,
   "metadata": {},
   "outputs": [],
   "source": []
  },
  {
   "cell_type": "code",
   "execution_count": null,
   "metadata": {},
   "outputs": [],
   "source": []
  },
  {
   "cell_type": "code",
   "execution_count": null,
   "metadata": {},
   "outputs": [],
   "source": []
  },
  {
   "cell_type": "code",
   "execution_count": null,
   "metadata": {},
   "outputs": [],
   "source": []
  },
  {
   "cell_type": "code",
   "execution_count": null,
   "metadata": {},
   "outputs": [],
   "source": []
  },
  {
   "cell_type": "code",
   "execution_count": null,
   "metadata": {},
   "outputs": [],
   "source": []
  },
  {
   "cell_type": "code",
   "execution_count": null,
   "metadata": {},
   "outputs": [],
   "source": []
  },
  {
   "cell_type": "code",
   "execution_count": null,
   "metadata": {},
   "outputs": [],
   "source": []
  },
  {
   "cell_type": "code",
   "execution_count": null,
   "metadata": {},
   "outputs": [],
   "source": []
  },
  {
   "cell_type": "code",
   "execution_count": null,
   "metadata": {},
   "outputs": [],
   "source": []
  },
  {
   "cell_type": "code",
   "execution_count": null,
   "metadata": {},
   "outputs": [],
   "source": []
  },
  {
   "cell_type": "code",
   "execution_count": null,
   "metadata": {},
   "outputs": [],
   "source": []
  },
  {
   "cell_type": "code",
   "execution_count": 7,
   "metadata": {},
   "outputs": [
    {
     "data": {
      "text/plain": [
       "array(['SEC Interruption-SEC Power-Power',\n",
       "       'Single Genset Failure-Genset-Power', 'Telecom (Other Vendor)',\n",
       "       'Air Condition Issue-High Temperature-Environment',\n",
       "       'Rental Genset Failure-Genset-Power',\n",
       "       'Rectifier Issue-Rectifier Issue-Power',\n",
       "       'Dual Genset Failure-Genset-Power'], dtype=object)"
      ]
     },
     "execution_count": 7,
     "metadata": {},
     "output_type": "execute_result"
    }
   ],
   "source": [
    "df['Fault Type'].unique()"
   ]
  },
  {
   "cell_type": "code",
   "execution_count": 12,
   "metadata": {},
   "outputs": [
    {
     "data": {
      "text/plain": [
       "<AxesSubplot: ylabel='Fault Type'>"
      ]
     },
     "execution_count": 12,
     "metadata": {},
     "output_type": "execute_result"
    },
    {
     "data": {
      "image/png": "[encoded data removed]",
      "text/plain": [
       "<Figure size 640x480 with 1 Axes>"
      ]
     },
     "metadata": {},
     "output_type": "display_data"
    }
   ],
   "source": [
    "df['Fault Type'].value_counts().plot(kind = 'bar')"
   ]
  },
  {
   "cell_type": "code",
   "execution_count": 32,
   "metadata": {},
   "outputs": [
    {
     "data": {
      "text/plain": [
       "<AxesSubplot: xlabel='None,Fault Type'>"
      ]
     },
     "execution_count": 32,
     "metadata": {},
     "output_type": "execute_result"
    },
    {
     "data": {
      "image/png": "[encoded data removed]",
      "text/plain": [
       "<Figure size 640x480 with 1 Axes>"
      ]
     },
     "metadata": {},
     "output_type": "display_data"
    }
   ],
   "source": [
    "df.groupby(['Fault Type']).aggregate({'Exact Number of Physical Impacted Sites ':sum }).sort_values('Exact Number of Physical Impacted Sites ',ascending=False).unstack(0).plot(kind='bar')"
   ]
  },
  {
   "cell_type": "code",
   "execution_count": 33,
   "metadata": {},
   "outputs": [],
   "source": [
    "import matplotlib.pyplot as plt"
   ]
  },
  {
   "cell_type": "code",
   "execution_count": 43,
   "metadata": {},
   "outputs": [
    {
     "data": {
      "text/plain": [
       "([0, 1, 2, 3, 4, 5, 6],\n",
       " [Text(0, 0, 'SEC Interruption-SEC Power-Power'),\n",
       "  Text(1, 0, 'Single Genset Failure-Genset-Power'),\n",
       "  Text(2, 0, 'Telecom (Other Vendor)'),\n",
       "  Text(3, 0, 'Air Condition Issue-High Temperature-Environment'),\n",
       "  Text(4, 0, 'Rental Genset Failure-Genset-Power'),\n",
       "  Text(5, 0, 'Rectifier Issue-Rectifier Issue-Power'),\n",
       "  Text(6, 0, 'Dual Genset Failure-Genset-Power')])"
      ]
     },
     "execution_count": 43,
     "metadata": {},
     "output_type": "execute_result"
    },
    {
     "data": {
      "image/png": "[encoded data removed]",
      "text/plain": [
       "<Figure size 640x480 with 1 Axes>"
      ]
     },
     "metadata": {},
     "output_type": "display_data"
    }
   ],
   "source": [
    "plt.bar(df['Fault Type'],df['Exact Number of Physical Impacted Sites '] )\n",
    "plt.xticks(rotation=90)\n"
   ]
  },
  {
   "cell_type": "code",
   "execution_count": 41,
   "metadata": {},
   "outputs": [
    {
     "data": {
      "text/plain": [
       "25"
      ]
     },
     "execution_count": 41,
     "metadata": {},
     "output_type": "execute_result"
    }
   ],
   "source": [
    "df['Site Type'].unique().__len__()"
   ]
  },
  {
   "cell_type": "code",
   "execution_count": 46,
   "metadata": {},
   "outputs": [
    {
     "data": {
      "text/plain": [
       "<AxesSubplot: >"
      ]
     },
     "execution_count": 46,
     "metadata": {},
     "output_type": "execute_result"
    },
    {
     "data": {
      "image/png": "[encoded data removed]",
      "text/plain": [
       "<Figure size 640x480 with 1 Axes>"
      ]
     },
     "metadata": {},
     "output_type": "display_data"
    }
   ],
   "source": [
    "df['Site Type'].value_counts().plot(kind='bar')"
   ]
  },
  {
   "cell_type": "code",
   "execution_count": 77,
   "metadata": {},
   "outputs": [],
   "source": [
    "# df['Exact Number of Physical Impacted Sites '].isna().sum()\n",
    "# df[df['Site Type'].isna()] #.sum()\n",
    "df = df.dropna()"
   ]
  },
  {
   "cell_type": "code",
   "execution_count": 78,
   "metadata": {},
   "outputs": [
    {
     "data": {
      "text/plain": [
       "0"
      ]
     },
     "execution_count": 78,
     "metadata": {},
     "output_type": "execute_result"
    }
   ],
   "source": [
    "df['Site Type'].isna().sum()"
   ]
  },
  {
   "cell_type": "code",
   "execution_count": 79,
   "metadata": {},
   "outputs": [
    {
     "data": {
      "text/plain": [
       "(0, 46)"
      ]
     },
     "execution_count": 79,
     "metadata": {},
     "output_type": "execute_result"
    }
   ],
   "source": [
    "df.shape"
   ]
  },
  {
   "cell_type": "code",
   "execution_count": 97,
   "metadata": {},
   "outputs": [
    {
     "data": {
      "text/plain": [
       "GF                        14209\n",
       "RT                         1857\n",
       "IBS                          90\n",
       "IBS-Active-Third Party       20\n",
       "RDU                          15\n",
       "Microcell                    14\n",
       "GF ODU                        9\n",
       "ODC-RT                        7\n",
       "ODC-GF                        7\n",
       "RDU Minishelter               7\n",
       "GF-ODC                        6\n",
       "Pico Cell                     3\n",
       "RT-ODC                        2\n",
       "GF Tower                      2\n",
       "RT Minishelter                2\n",
       "IBS-Active-STC                2\n",
       "IBS-Active-Mobily             1\n",
       "GF (Tawal Sharing)            1\n",
       "Tower                         1\n",
       "IBS-Passive-Mobily            1\n",
       "IBS-Passive-STC               1\n",
       "RDU Mini-Shelter              1\n",
       "Indoor                        1\n",
       "RT (Tawal Sharing)            1\n",
       "Name: Site Type, dtype: int64"
      ]
     },
     "execution_count": 97,
     "metadata": {},
     "output_type": "execute_result"
    }
   ],
   "source": [
    "df['Site Type'].value_counts()"
   ]
  },
  {
   "cell_type": "code",
   "execution_count": 91,
   "metadata": {},
   "outputs": [
    {
     "data": {
      "text/plain": [
       "count     16220\n",
       "unique       24\n",
       "top          GF\n",
       "freq      14169\n",
       "Name: Site Type, dtype: object"
      ]
     },
     "execution_count": 91,
     "metadata": {},
     "output_type": "execute_result"
    }
   ],
   "source": [
    "df['Site Type'].describe()"
   ]
  },
  {
   "cell_type": "code",
   "execution_count": 92,
   "metadata": {},
   "outputs": [],
   "source": [
    "import numpy as np"
   ]
  },
  {
   "cell_type": "code",
   "execution_count": 95,
   "metadata": {},
   "outputs": [],
   "source": [
    "df['Site Type'] =df['Site Type'].fillna('GF')"
   ]
  },
  {
   "cell_type": "code",
   "execution_count": 96,
   "metadata": {},
   "outputs": [
    {
     "data": {
      "text/plain": [
       "0"
      ]
     },
     "execution_count": 96,
     "metadata": {},
     "output_type": "execute_result"
    }
   ],
   "source": [
    "df['Site Type'].isna().sum()"
   ]
  },
  {
   "cell_type": "code",
   "execution_count": 89,
   "metadata": {},
   "outputs": [],
   "source": [
    "# plt.bar(df['Site Type'],df['Exact Number of Physical Impacted Sites '])"
   ]
  },
  {
   "cell_type": "code",
   "execution_count": 109,
   "metadata": {},
   "outputs": [
    {
     "data": {
      "text/html": [
       "<div>\n",
       "<style scoped>\n",
       "    .dataframe tbody tr th:only-of-type {\n",
       "        vertical-align: middle;\n",
       "    }\n",
       "\n",
       "    .dataframe tbody tr th {\n",
       "        vertical-align: top;\n",
       "    }\n",
       "\n",
       "    .dataframe thead th {\n",
       "        text-align: right;\n",
       "    }\n",
       "</style>\n",
       "<table border=\"1\" class=\"dataframe\">\n",
       "  <thead>\n",
       "    <tr style=\"text-align: right;\">\n",
       "      <th></th>\n",
       "      <th></th>\n",
       "      <th>Exact Number of Physical Impacted Sites</th>\n",
       "    </tr>\n",
       "    <tr>\n",
       "      <th>Site Type</th>\n",
       "      <th>Hub Site ID</th>\n",
       "      <th></th>\n",
       "    </tr>\n",
       "  </thead>\n",
       "  <tbody>\n",
       "    <tr>\n",
       "      <th rowspan=\"5\" valign=\"top\">GF</th>\n",
       "      <th>C0080</th>\n",
       "      <td>1</td>\n",
       "    </tr>\n",
       "    <tr>\n",
       "      <th>C0083</th>\n",
       "      <td>8</td>\n",
       "    </tr>\n",
       "    <tr>\n",
       "      <th>C0086</th>\n",
       "      <td>1</td>\n",
       "    </tr>\n",
       "    <tr>\n",
       "      <th>C0093</th>\n",
       "      <td>5</td>\n",
       "    </tr>\n",
       "    <tr>\n",
       "      <th>C0103</th>\n",
       "      <td>6</td>\n",
       "    </tr>\n",
       "    <tr>\n",
       "      <th>...</th>\n",
       "      <th>...</th>\n",
       "      <td>...</td>\n",
       "    </tr>\n",
       "    <tr>\n",
       "      <th>RT (Tawal Sharing)</th>\n",
       "      <th>C5270</th>\n",
       "      <td>1</td>\n",
       "    </tr>\n",
       "    <tr>\n",
       "      <th>RT Minishelter</th>\n",
       "      <th>C5669</th>\n",
       "      <td>2</td>\n",
       "    </tr>\n",
       "    <tr>\n",
       "      <th rowspan=\"2\" valign=\"top\">RT-ODC</th>\n",
       "      <th>W4814</th>\n",
       "      <td>1</td>\n",
       "    </tr>\n",
       "    <tr>\n",
       "      <th>W4822</th>\n",
       "      <td>1</td>\n",
       "    </tr>\n",
       "    <tr>\n",
       "      <th>Tower</th>\n",
       "      <th>W2074</th>\n",
       "      <td>1</td>\n",
       "    </tr>\n",
       "  </tbody>\n",
       "</table>\n",
       "<p>5092 rows × 1 columns</p>\n",
       "</div>"
      ],
      "text/plain": [
       "                                Exact Number of Physical Impacted Sites \n",
       "Site Type          Hub Site ID                                          \n",
       "GF                 C0080                                               1\n",
       "                   C0083                                               8\n",
       "                   C0086                                               1\n",
       "                   C0093                                               5\n",
       "                   C0103                                               6\n",
       "...                                                                  ...\n",
       "RT (Tawal Sharing) C5270                                               1\n",
       "RT Minishelter     C5669                                               2\n",
       "RT-ODC             W4814                                               1\n",
       "                   W4822                                               1\n",
       "Tower              W2074                                               1\n",
       "\n",
       "[5092 rows x 1 columns]"
      ]
     },
     "execution_count": 109,
     "metadata": {},
     "output_type": "execute_result"
    }
   ],
   "source": [
    "df.groupby(['Site Type','Hub Site ID']).aggregate({'Exact Number of Physical Impacted Sites ':sum}) #['Hub Site ID']"
   ]
  },
  {
   "cell_type": "code",
   "execution_count": 110,
   "metadata": {},
   "outputs": [
    {
     "data": {
      "text/plain": [
       "count     16260\n",
       "unique     5085\n",
       "top       C6270\n",
       "freq         89\n",
       "Name: Hub Site ID, dtype: object"
      ]
     },
     "execution_count": 110,
     "metadata": {},
     "output_type": "execute_result"
    }
   ],
   "source": [
    "df['Hub Site ID'].describe()"
   ]
  },
  {
   "cell_type": "code",
   "execution_count": 18,
   "metadata": {},
   "outputs": [
    {
     "data": {
      "text/plain": [
       "C6270    89\n",
       "C6271    85\n",
       "C6280    62\n",
       "C6206    61\n",
       "C7051    41\n",
       "C6076    39\n",
       "C5025    37\n",
       "C1530    36\n",
       "W4841    33\n",
       "W1360    32\n",
       "Name: Hub Site ID, dtype: int64"
      ]
     },
     "execution_count": 18,
     "metadata": {},
     "output_type": "execute_result"
    }
   ],
   "source": [
    "df['Hub Site ID'].value_counts().head(10)\n"
   ]
  },
  {
   "cell_type": "code",
   "execution_count": 125,
   "metadata": {},
   "outputs": [
    {
     "data": {
      "text/plain": [
       "1    89\n",
       "Name: Exact Number of Physical Impacted Sites , dtype: int64"
      ]
     },
     "execution_count": 125,
     "metadata": {},
     "output_type": "execute_result"
    }
   ],
   "source": [
    "df[df['Hub Site ID'] == 'C6270']['Exact Number of Physical Impacted Sites ']"
   ]
  },
  {
   "cell_type": "code",
   "execution_count": null,
   "metadata": {},
   "outputs": [],
   "source": []
  }
 ],
 "metadata": {
  "kernelspec": {
   "display_name": "Python 3",
   "language": "python",
   "name": "python3"
  },
  "language_info": {
   "codemirror_mode": {
    "name": "ipython",
    "version": 3
   },
   "file_extension": ".py",
   "mimetype": "text/x-python",
   "name": "python",
   "nbconvert_exporter": "python",
   "pygments_lexer": "ipython3",
   "version": "3.11.0"
  },
  "orig_nbformat": 4
 },
 "nbformat": 4,
 "nbformat_minor": 2
}
